{
 "cells": [
  {
   "cell_type": "code",
   "execution_count": 2,
   "id": "cb9dc709",
   "metadata": {},
   "outputs": [
    {
     "name": "stdout",
     "output_type": "stream",
     "text": [
      "Python 3.13.2\n"
     ]
    }
   ],
   "source": [
    "!python --version"
   ]
  },
  {
   "cell_type": "code",
   "execution_count": 6,
   "id": "f28711b3",
   "metadata": {},
   "outputs": [
    {
     "name": "stdout",
     "output_type": "stream",
     "text": [
      "Requirement already satisfied: huggingface_hub[hf_xet] in c:\\users\\sunho&sanchita\\desktop\\bill-extractor-agent\\venv\\lib\\site-packages (0.34.3)\n",
      "Requirement already satisfied: filelock in c:\\users\\sunho&sanchita\\desktop\\bill-extractor-agent\\venv\\lib\\site-packages (from huggingface_hub[hf_xet]) (3.18.0)\n",
      "Requirement already satisfied: fsspec>=2023.5.0 in c:\\users\\sunho&sanchita\\desktop\\bill-extractor-agent\\venv\\lib\\site-packages (from huggingface_hub[hf_xet]) (2025.7.0)\n",
      "Requirement already satisfied: packaging>=20.9 in c:\\users\\sunho&sanchita\\desktop\\bill-extractor-agent\\venv\\lib\\site-packages (from huggingface_hub[hf_xet]) (25.0)\n",
      "Requirement already satisfied: pyyaml>=5.1 in c:\\users\\sunho&sanchita\\desktop\\bill-extractor-agent\\venv\\lib\\site-packages (from huggingface_hub[hf_xet]) (6.0.2)\n",
      "Requirement already satisfied: requests in c:\\users\\sunho&sanchita\\desktop\\bill-extractor-agent\\venv\\lib\\site-packages (from huggingface_hub[hf_xet]) (2.32.4)\n",
      "Requirement already satisfied: tqdm>=4.42.1 in c:\\users\\sunho&sanchita\\desktop\\bill-extractor-agent\\venv\\lib\\site-packages (from huggingface_hub[hf_xet]) (4.67.1)\n",
      "Requirement already satisfied: typing-extensions>=3.7.4.3 in c:\\users\\sunho&sanchita\\desktop\\bill-extractor-agent\\venv\\lib\\site-packages (from huggingface_hub[hf_xet]) (4.14.1)\n",
      "Collecting hf-xet<2.0.0,>=1.1.2 (from huggingface_hub[hf_xet])\n",
      "  Downloading hf_xet-1.1.8-cp37-abi3-win_amd64.whl.metadata (703 bytes)\n",
      "Requirement already satisfied: colorama in c:\\users\\sunho&sanchita\\desktop\\bill-extractor-agent\\venv\\lib\\site-packages (from tqdm>=4.42.1->huggingface_hub[hf_xet]) (0.4.6)\n",
      "Requirement already satisfied: charset_normalizer<4,>=2 in c:\\users\\sunho&sanchita\\desktop\\bill-extractor-agent\\venv\\lib\\site-packages (from requests->huggingface_hub[hf_xet]) (3.4.2)\n",
      "Requirement already satisfied: idna<4,>=2.5 in c:\\users\\sunho&sanchita\\desktop\\bill-extractor-agent\\venv\\lib\\site-packages (from requests->huggingface_hub[hf_xet]) (3.10)\n",
      "Requirement already satisfied: urllib3<3,>=1.21.1 in c:\\users\\sunho&sanchita\\desktop\\bill-extractor-agent\\venv\\lib\\site-packages (from requests->huggingface_hub[hf_xet]) (2.5.0)\n",
      "Requirement already satisfied: certifi>=2017.4.17 in c:\\users\\sunho&sanchita\\desktop\\bill-extractor-agent\\venv\\lib\\site-packages (from requests->huggingface_hub[hf_xet]) (2025.7.14)\n",
      "Downloading hf_xet-1.1.8-cp37-abi3-win_amd64.whl (2.8 MB)\n",
      "   ---------------------------------------- 0.0/2.8 MB ? eta -:--:--\n",
      "   ------------------ --------------------- 1.3/2.8 MB 6.4 MB/s eta 0:00:01\n",
      "   --------------------------------- ------ 2.4/2.8 MB 6.6 MB/s eta 0:00:01\n",
      "   ---------------------------------------- 2.8/2.8 MB 5.8 MB/s eta 0:00:00\n",
      "Installing collected packages: hf-xet\n",
      "Successfully installed hf-xet-1.1.8\n",
      "Note: you may need to restart the kernel to use updated packages.\n"
     ]
    },
    {
     "name": "stderr",
     "output_type": "stream",
     "text": [
      "\n",
      "[notice] A new release of pip is available: 24.3.1 -> 25.2\n",
      "[notice] To update, run: python.exe -m pip install --upgrade pip\n"
     ]
    }
   ],
   "source": [
    "%pip install huggingface_hub[hf_xet]"
   ]
  },
  {
   "cell_type": "code",
   "execution_count": 4,
   "id": "b28045ec",
   "metadata": {},
   "outputs": [
    {
     "name": "stdout",
     "output_type": "stream",
     "text": [
      "Requirement already satisfied: langchain-community in c:\\users\\sunho&sanchita\\desktop\\bill-extractor-agent\\venv\\lib\\site-packages (0.3.27)\n",
      "Collecting unstructured\n",
      "  Using cached unstructured-0.18.13-py3-none-any.whl.metadata (24 kB)\n",
      "Requirement already satisfied: openpyxl in c:\\users\\sunho&sanchita\\desktop\\bill-extractor-agent\\venv\\lib\\site-packages (3.1.5)\n",
      "Requirement already satisfied: langchain-core<1.0.0,>=0.3.66 in c:\\users\\sunho&sanchita\\desktop\\bill-extractor-agent\\venv\\lib\\site-packages (from langchain-community) (0.3.72)\n",
      "Requirement already satisfied: langchain<1.0.0,>=0.3.26 in c:\\users\\sunho&sanchita\\desktop\\bill-extractor-agent\\venv\\lib\\site-packages (from langchain-community) (0.3.27)\n",
      "Requirement already satisfied: SQLAlchemy<3,>=1.4 in c:\\users\\sunho&sanchita\\desktop\\bill-extractor-agent\\venv\\lib\\site-packages (from langchain-community) (2.0.42)\n",
      "Requirement already satisfied: requests<3,>=2 in c:\\users\\sunho&sanchita\\desktop\\bill-extractor-agent\\venv\\lib\\site-packages (from langchain-community) (2.32.4)\n",
      "Requirement already satisfied: PyYAML>=5.3 in c:\\users\\sunho&sanchita\\desktop\\bill-extractor-agent\\venv\\lib\\site-packages (from langchain-community) (6.0.2)\n",
      "Requirement already satisfied: aiohttp<4.0.0,>=3.8.3 in c:\\users\\sunho&sanchita\\desktop\\bill-extractor-agent\\venv\\lib\\site-packages (from langchain-community) (3.12.15)\n",
      "Requirement already satisfied: tenacity!=8.4.0,<10,>=8.1.0 in c:\\users\\sunho&sanchita\\desktop\\bill-extractor-agent\\venv\\lib\\site-packages (from langchain-community) (9.1.2)\n",
      "Requirement already satisfied: dataclasses-json<0.7,>=0.5.7 in c:\\users\\sunho&sanchita\\desktop\\bill-extractor-agent\\venv\\lib\\site-packages (from langchain-community) (0.6.7)\n",
      "Requirement already satisfied: pydantic-settings<3.0.0,>=2.4.0 in c:\\users\\sunho&sanchita\\desktop\\bill-extractor-agent\\venv\\lib\\site-packages (from langchain-community) (2.10.1)\n",
      "Requirement already satisfied: langsmith>=0.1.125 in c:\\users\\sunho&sanchita\\desktop\\bill-extractor-agent\\venv\\lib\\site-packages (from langchain-community) (0.4.9)\n",
      "Requirement already satisfied: httpx-sse<1.0.0,>=0.4.0 in c:\\users\\sunho&sanchita\\desktop\\bill-extractor-agent\\venv\\lib\\site-packages (from langchain-community) (0.4.1)\n",
      "Requirement already satisfied: numpy>=2.1.0 in c:\\users\\sunho&sanchita\\desktop\\bill-extractor-agent\\venv\\lib\\site-packages (from langchain-community) (2.3.2)\n",
      "Requirement already satisfied: charset-normalizer in c:\\users\\sunho&sanchita\\desktop\\bill-extractor-agent\\venv\\lib\\site-packages (from unstructured) (3.4.2)\n",
      "Requirement already satisfied: filetype in c:\\users\\sunho&sanchita\\desktop\\bill-extractor-agent\\venv\\lib\\site-packages (from unstructured) (1.2.0)\n",
      "Collecting python-magic (from unstructured)\n",
      "  Using cached python_magic-0.4.27-py2.py3-none-any.whl.metadata (5.8 kB)\n",
      "Collecting lxml (from unstructured)\n",
      "  Using cached lxml-6.0.0-cp313-cp313-win_amd64.whl.metadata (6.8 kB)\n",
      "Collecting nltk (from unstructured)\n",
      "  Using cached nltk-3.9.1-py3-none-any.whl.metadata (2.9 kB)\n",
      "Collecting beautifulsoup4 (from unstructured)\n",
      "  Using cached beautifulsoup4-4.13.4-py3-none-any.whl.metadata (3.8 kB)\n",
      "Collecting emoji (from unstructured)\n",
      "  Using cached emoji-2.14.1-py3-none-any.whl.metadata (5.7 kB)\n",
      "Collecting python-iso639 (from unstructured)\n",
      "  Using cached python_iso639-2025.2.18-py3-none-any.whl.metadata (14 kB)\n",
      "Collecting langdetect (from unstructured)\n",
      "  Using cached langdetect-1.0.9.tar.gz (981 kB)\n",
      "  Installing build dependencies: started\n",
      "  Installing build dependencies: finished with status 'done'\n",
      "  Getting requirements to build wheel: started\n",
      "  Getting requirements to build wheel: finished with status 'done'\n",
      "  Preparing metadata (pyproject.toml): started\n",
      "  Preparing metadata (pyproject.toml): finished with status 'done'\n",
      "Collecting rapidfuzz (from unstructured)\n",
      "  Using cached rapidfuzz-3.13.0-cp313-cp313-win_amd64.whl.metadata (12 kB)\n",
      "Collecting backoff (from unstructured)\n",
      "  Using cached backoff-2.2.1-py3-none-any.whl.metadata (14 kB)\n",
      "Requirement already satisfied: typing-extensions in c:\\users\\sunho&sanchita\\desktop\\bill-extractor-agent\\venv\\lib\\site-packages (from unstructured) (4.14.1)\n",
      "Collecting unstructured-client (from unstructured)\n",
      "  Using cached unstructured_client-0.42.3-py3-none-any.whl.metadata (23 kB)\n",
      "Collecting wrapt (from unstructured)\n",
      "  Using cached wrapt-1.17.3-cp313-cp313-win_amd64.whl.metadata (6.5 kB)\n",
      "Requirement already satisfied: tqdm in c:\\users\\sunho&sanchita\\desktop\\bill-extractor-agent\\venv\\lib\\site-packages (from unstructured) (4.67.1)\n",
      "Requirement already satisfied: psutil in c:\\users\\sunho&sanchita\\desktop\\bill-extractor-agent\\venv\\lib\\site-packages (from unstructured) (7.0.0)\n",
      "Collecting python-oxmsg (from unstructured)\n",
      "  Using cached python_oxmsg-0.0.2-py3-none-any.whl.metadata (5.0 kB)\n",
      "Collecting html5lib (from unstructured)\n",
      "  Using cached html5lib-1.1-py2.py3-none-any.whl.metadata (16 kB)\n",
      "Requirement already satisfied: et-xmlfile in c:\\users\\sunho&sanchita\\desktop\\bill-extractor-agent\\venv\\lib\\site-packages (from openpyxl) (2.0.0)\n",
      "Requirement already satisfied: aiohappyeyeballs>=2.5.0 in c:\\users\\sunho&sanchita\\desktop\\bill-extractor-agent\\venv\\lib\\site-packages (from aiohttp<4.0.0,>=3.8.3->langchain-community) (2.6.1)\n",
      "Requirement already satisfied: aiosignal>=1.4.0 in c:\\users\\sunho&sanchita\\desktop\\bill-extractor-agent\\venv\\lib\\site-packages (from aiohttp<4.0.0,>=3.8.3->langchain-community) (1.4.0)\n",
      "Requirement already satisfied: attrs>=17.3.0 in c:\\users\\sunho&sanchita\\desktop\\bill-extractor-agent\\venv\\lib\\site-packages (from aiohttp<4.0.0,>=3.8.3->langchain-community) (25.3.0)\n",
      "Requirement already satisfied: frozenlist>=1.1.1 in c:\\users\\sunho&sanchita\\desktop\\bill-extractor-agent\\venv\\lib\\site-packages (from aiohttp<4.0.0,>=3.8.3->langchain-community) (1.7.0)\n",
      "Requirement already satisfied: multidict<7.0,>=4.5 in c:\\users\\sunho&sanchita\\desktop\\bill-extractor-agent\\venv\\lib\\site-packages (from aiohttp<4.0.0,>=3.8.3->langchain-community) (6.6.3)\n",
      "Requirement already satisfied: propcache>=0.2.0 in c:\\users\\sunho&sanchita\\desktop\\bill-extractor-agent\\venv\\lib\\site-packages (from aiohttp<4.0.0,>=3.8.3->langchain-community) (0.3.2)\n",
      "Requirement already satisfied: yarl<2.0,>=1.17.0 in c:\\users\\sunho&sanchita\\desktop\\bill-extractor-agent\\venv\\lib\\site-packages (from aiohttp<4.0.0,>=3.8.3->langchain-community) (1.20.1)\n",
      "Requirement already satisfied: marshmallow<4.0.0,>=3.18.0 in c:\\users\\sunho&sanchita\\desktop\\bill-extractor-agent\\venv\\lib\\site-packages (from dataclasses-json<0.7,>=0.5.7->langchain-community) (3.26.1)\n",
      "Requirement already satisfied: typing-inspect<1,>=0.4.0 in c:\\users\\sunho&sanchita\\desktop\\bill-extractor-agent\\venv\\lib\\site-packages (from dataclasses-json<0.7,>=0.5.7->langchain-community) (0.9.0)\n",
      "Requirement already satisfied: langchain-text-splitters<1.0.0,>=0.3.9 in c:\\users\\sunho&sanchita\\desktop\\bill-extractor-agent\\venv\\lib\\site-packages (from langchain<1.0.0,>=0.3.26->langchain-community) (0.3.9)\n",
      "Requirement already satisfied: pydantic<3.0.0,>=2.7.4 in c:\\users\\sunho&sanchita\\desktop\\bill-extractor-agent\\venv\\lib\\site-packages (from langchain<1.0.0,>=0.3.26->langchain-community) (2.11.7)\n",
      "Requirement already satisfied: jsonpatch<2.0,>=1.33 in c:\\users\\sunho&sanchita\\desktop\\bill-extractor-agent\\venv\\lib\\site-packages (from langchain-core<1.0.0,>=0.3.66->langchain-community) (1.33)\n",
      "Requirement already satisfied: packaging>=23.2 in c:\\users\\sunho&sanchita\\desktop\\bill-extractor-agent\\venv\\lib\\site-packages (from langchain-core<1.0.0,>=0.3.66->langchain-community) (25.0)\n",
      "Requirement already satisfied: httpx<1,>=0.23.0 in c:\\users\\sunho&sanchita\\desktop\\bill-extractor-agent\\venv\\lib\\site-packages (from langsmith>=0.1.125->langchain-community) (0.28.1)\n",
      "Requirement already satisfied: orjson<4.0.0,>=3.9.14 in c:\\users\\sunho&sanchita\\desktop\\bill-extractor-agent\\venv\\lib\\site-packages (from langsmith>=0.1.125->langchain-community) (3.11.1)\n",
      "Requirement already satisfied: requests-toolbelt<2.0.0,>=1.0.0 in c:\\users\\sunho&sanchita\\desktop\\bill-extractor-agent\\venv\\lib\\site-packages (from langsmith>=0.1.125->langchain-community) (1.0.0)\n",
      "Requirement already satisfied: zstandard<0.24.0,>=0.23.0 in c:\\users\\sunho&sanchita\\desktop\\bill-extractor-agent\\venv\\lib\\site-packages (from langsmith>=0.1.125->langchain-community) (0.23.0)\n",
      "Requirement already satisfied: python-dotenv>=0.21.0 in c:\\users\\sunho&sanchita\\desktop\\bill-extractor-agent\\venv\\lib\\site-packages (from pydantic-settings<3.0.0,>=2.4.0->langchain-community) (1.1.1)\n",
      "Requirement already satisfied: typing-inspection>=0.4.0 in c:\\users\\sunho&sanchita\\desktop\\bill-extractor-agent\\venv\\lib\\site-packages (from pydantic-settings<3.0.0,>=2.4.0->langchain-community) (0.4.1)\n",
      "Requirement already satisfied: idna<4,>=2.5 in c:\\users\\sunho&sanchita\\desktop\\bill-extractor-agent\\venv\\lib\\site-packages (from requests<3,>=2->langchain-community) (3.10)\n",
      "Requirement already satisfied: urllib3<3,>=1.21.1 in c:\\users\\sunho&sanchita\\desktop\\bill-extractor-agent\\venv\\lib\\site-packages (from requests<3,>=2->langchain-community) (2.5.0)\n",
      "Requirement already satisfied: certifi>=2017.4.17 in c:\\users\\sunho&sanchita\\desktop\\bill-extractor-agent\\venv\\lib\\site-packages (from requests<3,>=2->langchain-community) (2025.7.14)\n",
      "Requirement already satisfied: greenlet>=1 in c:\\users\\sunho&sanchita\\desktop\\bill-extractor-agent\\venv\\lib\\site-packages (from SQLAlchemy<3,>=1.4->langchain-community) (3.2.3)\n",
      "Collecting soupsieve>1.2 (from beautifulsoup4->unstructured)\n",
      "  Using cached soupsieve-2.7-py3-none-any.whl.metadata (4.6 kB)\n",
      "Requirement already satisfied: six>=1.9 in c:\\users\\sunho&sanchita\\desktop\\bill-extractor-agent\\venv\\lib\\site-packages (from html5lib->unstructured) (1.17.0)\n",
      "Collecting webencodings (from html5lib->unstructured)\n",
      "  Using cached webencodings-0.5.1-py2.py3-none-any.whl.metadata (2.1 kB)\n",
      "Collecting click (from nltk->unstructured)\n",
      "  Using cached click-8.2.1-py3-none-any.whl.metadata (2.5 kB)\n",
      "Requirement already satisfied: joblib in c:\\users\\sunho&sanchita\\desktop\\bill-extractor-agent\\venv\\lib\\site-packages (from nltk->unstructured) (1.5.1)\n",
      "Requirement already satisfied: regex>=2021.8.3 in c:\\users\\sunho&sanchita\\desktop\\bill-extractor-agent\\venv\\lib\\site-packages (from nltk->unstructured) (2025.7.34)\n",
      "Collecting olefile (from python-oxmsg->unstructured)\n",
      "  Using cached olefile-0.47-py2.py3-none-any.whl.metadata (9.7 kB)\n",
      "Requirement already satisfied: colorama in c:\\users\\sunho&sanchita\\desktop\\bill-extractor-agent\\venv\\lib\\site-packages (from tqdm->unstructured) (0.4.6)\n",
      "Collecting aiofiles>=24.1.0 (from unstructured-client->unstructured)\n",
      "  Using cached aiofiles-24.1.0-py3-none-any.whl.metadata (10 kB)\n",
      "Collecting cryptography>=3.1 (from unstructured-client->unstructured)\n",
      "  Using cached cryptography-45.0.6-cp311-abi3-win_amd64.whl.metadata (5.7 kB)\n",
      "Requirement already satisfied: httpcore>=1.0.9 in c:\\users\\sunho&sanchita\\desktop\\bill-extractor-agent\\venv\\lib\\site-packages (from unstructured-client->unstructured) (1.0.9)\n",
      "Collecting pypdf>=4.0 (from unstructured-client->unstructured)\n",
      "  Using cached pypdf-6.0.0-py3-none-any.whl.metadata (7.1 kB)\n",
      "Collecting cffi>=1.14 (from cryptography>=3.1->unstructured-client->unstructured)\n",
      "  Using cached cffi-1.17.1-cp313-cp313-win_amd64.whl.metadata (1.6 kB)\n",
      "Requirement already satisfied: h11>=0.16 in c:\\users\\sunho&sanchita\\desktop\\bill-extractor-agent\\venv\\lib\\site-packages (from httpcore>=1.0.9->unstructured-client->unstructured) (0.16.0)\n",
      "Requirement already satisfied: anyio in c:\\users\\sunho&sanchita\\desktop\\bill-extractor-agent\\venv\\lib\\site-packages (from httpx<1,>=0.23.0->langsmith>=0.1.125->langchain-community) (4.9.0)\n",
      "Requirement already satisfied: jsonpointer>=1.9 in c:\\users\\sunho&sanchita\\desktop\\bill-extractor-agent\\venv\\lib\\site-packages (from jsonpatch<2.0,>=1.33->langchain-core<1.0.0,>=0.3.66->langchain-community) (3.0.0)\n",
      "Requirement already satisfied: annotated-types>=0.6.0 in c:\\users\\sunho&sanchita\\desktop\\bill-extractor-agent\\venv\\lib\\site-packages (from pydantic<3.0.0,>=2.7.4->langchain<1.0.0,>=0.3.26->langchain-community) (0.7.0)\n",
      "Requirement already satisfied: pydantic-core==2.33.2 in c:\\users\\sunho&sanchita\\desktop\\bill-extractor-agent\\venv\\lib\\site-packages (from pydantic<3.0.0,>=2.7.4->langchain<1.0.0,>=0.3.26->langchain-community) (2.33.2)\n",
      "Requirement already satisfied: mypy-extensions>=0.3.0 in c:\\users\\sunho&sanchita\\desktop\\bill-extractor-agent\\venv\\lib\\site-packages (from typing-inspect<1,>=0.4.0->dataclasses-json<0.7,>=0.5.7->langchain-community) (1.1.0)\n",
      "Collecting pycparser (from cffi>=1.14->cryptography>=3.1->unstructured-client->unstructured)\n",
      "  Using cached pycparser-2.22-py3-none-any.whl.metadata (943 bytes)\n",
      "Requirement already satisfied: sniffio>=1.1 in c:\\users\\sunho&sanchita\\desktop\\bill-extractor-agent\\venv\\lib\\site-packages (from anyio->httpx<1,>=0.23.0->langsmith>=0.1.125->langchain-community) (1.3.1)\n",
      "Using cached unstructured-0.18.13-py3-none-any.whl (1.8 MB)\n",
      "Using cached backoff-2.2.1-py3-none-any.whl (15 kB)\n",
      "Using cached beautifulsoup4-4.13.4-py3-none-any.whl (187 kB)\n",
      "Using cached emoji-2.14.1-py3-none-any.whl (590 kB)\n",
      "Using cached html5lib-1.1-py2.py3-none-any.whl (112 kB)\n",
      "Using cached lxml-6.0.0-cp313-cp313-win_amd64.whl (4.0 MB)\n",
      "Using cached nltk-3.9.1-py3-none-any.whl (1.5 MB)\n",
      "Using cached python_iso639-2025.2.18-py3-none-any.whl (167 kB)\n",
      "Using cached python_magic-0.4.27-py2.py3-none-any.whl (13 kB)\n",
      "Using cached python_oxmsg-0.0.2-py3-none-any.whl (31 kB)\n",
      "Using cached rapidfuzz-3.13.0-cp313-cp313-win_amd64.whl (1.6 MB)\n",
      "Using cached unstructured_client-0.42.3-py3-none-any.whl (207 kB)\n",
      "Using cached wrapt-1.17.3-cp313-cp313-win_amd64.whl (38 kB)\n",
      "Using cached aiofiles-24.1.0-py3-none-any.whl (15 kB)\n",
      "Using cached cryptography-45.0.6-cp311-abi3-win_amd64.whl (3.4 MB)\n",
      "Using cached pypdf-6.0.0-py3-none-any.whl (310 kB)\n",
      "Using cached soupsieve-2.7-py3-none-any.whl (36 kB)\n",
      "Using cached click-8.2.1-py3-none-any.whl (102 kB)\n",
      "Using cached olefile-0.47-py2.py3-none-any.whl (114 kB)\n",
      "Using cached webencodings-0.5.1-py2.py3-none-any.whl (11 kB)\n",
      "Using cached cffi-1.17.1-cp313-cp313-win_amd64.whl (182 kB)\n",
      "Using cached pycparser-2.22-py3-none-any.whl (117 kB)\n",
      "Building wheels for collected packages: langdetect\n",
      "  Building wheel for langdetect (pyproject.toml): started\n",
      "  Building wheel for langdetect (pyproject.toml): finished with status 'done'\n",
      "  Created wheel for langdetect: filename=langdetect-1.0.9-py3-none-any.whl size=993363 sha256=28cd90b7ae339078e1430c6fca0349aba9fc1c9ad2e2266c631e3e44a7ad9bfb\n",
      "  Stored in directory: c:\\users\\sunho&sanchita\\appdata\\local\\pip\\cache\\wheels\\eb\\87\\25\\2dddf1c94e1786054e25022ec5530bfed52bad86d882999c48\n",
      "Successfully built langdetect\n",
      "Installing collected packages: webencodings, wrapt, soupsieve, rapidfuzz, python-magic, python-iso639, pypdf, pycparser, olefile, lxml, langdetect, html5lib, emoji, click, backoff, aiofiles, python-oxmsg, nltk, cffi, beautifulsoup4, cryptography, unstructured-client, unstructured\n",
      "Note: you may need to restart the kernel to use updated packages.\n"
     ]
    },
    {
     "name": "stderr",
     "output_type": "stream",
     "text": [
      "ERROR: Could not install packages due to an OSError: [WinError 32] The process cannot access the file because it is being used by another process: 'c:\\\\Users\\\\Sunho&Sanchita\\\\Desktop\\\\Bill-Extractor-Agent\\\\venv\\\\Lib\\\\site-packages\\\\nltk\\\\corpus\\\\reader\\\\framenet.py'\n",
      "Check the permissions.\n",
      "\n",
      "\n",
      "[notice] A new release of pip is available: 24.3.1 -> 25.2\n",
      "[notice] To update, run: python.exe -m pip install --upgrade pip\n"
     ]
    }
   ],
   "source": [
    "%pip install langchain-community unstructured openpyxl"
   ]
  },
  {
   "cell_type": "code",
   "execution_count": 8,
   "id": "7fb74993",
   "metadata": {},
   "outputs": [
    {
     "name": "stdout",
     "output_type": "stream",
     "text": [
      "Collecting msoffcrypto-tool\n",
      "  Downloading msoffcrypto_tool-5.4.2-py3-none-any.whl.metadata (10 kB)\n",
      "Requirement already satisfied: cryptography>=39.0 in c:\\users\\sunho&sanchita\\desktop\\bill-extractor-agent\\venv\\lib\\site-packages (from msoffcrypto-tool) (45.0.6)\n",
      "Requirement already satisfied: olefile>=0.46 in c:\\users\\sunho&sanchita\\desktop\\bill-extractor-agent\\venv\\lib\\site-packages (from msoffcrypto-tool) (0.47)\n",
      "Requirement already satisfied: cffi>=1.14 in c:\\users\\sunho&sanchita\\desktop\\bill-extractor-agent\\venv\\lib\\site-packages (from cryptography>=39.0->msoffcrypto-tool) (1.17.1)\n",
      "Requirement already satisfied: pycparser in c:\\users\\sunho&sanchita\\desktop\\bill-extractor-agent\\venv\\lib\\site-packages (from cffi>=1.14->cryptography>=39.0->msoffcrypto-tool) (2.22)\n",
      "Downloading msoffcrypto_tool-5.4.2-py3-none-any.whl (48 kB)\n",
      "Installing collected packages: msoffcrypto-tool\n",
      "Successfully installed msoffcrypto-tool-5.4.2\n",
      "Note: you may need to restart the kernel to use updated packages.\n"
     ]
    },
    {
     "name": "stderr",
     "output_type": "stream",
     "text": [
      "\n",
      "[notice] A new release of pip is available: 24.3.1 -> 25.2\n",
      "[notice] To update, run: python.exe -m pip install --upgrade pip\n"
     ]
    }
   ],
   "source": [
    "%pip install msoffcrypto-tool"
   ]
  },
  {
   "cell_type": "code",
   "execution_count": 43,
   "id": "c1c44d1c",
   "metadata": {},
   "outputs": [
    {
     "name": "stdout",
     "output_type": "stream",
     "text": [
      "Collecting langchain-huggingface\n",
      "  Downloading langchain_huggingface-0.3.1-py3-none-any.whl.metadata (996 bytes)\n",
      "Requirement already satisfied: langchain-core<1.0.0,>=0.3.70 in c:\\users\\sunho&sanchita\\desktop\\bill-extractor-agent\\venv\\lib\\site-packages (from langchain-huggingface) (0.3.72)\n",
      "Requirement already satisfied: tokenizers>=0.19.1 in c:\\users\\sunho&sanchita\\desktop\\bill-extractor-agent\\venv\\lib\\site-packages (from langchain-huggingface) (0.21.4)\n",
      "Requirement already satisfied: huggingface-hub>=0.33.4 in c:\\users\\sunho&sanchita\\desktop\\bill-extractor-agent\\venv\\lib\\site-packages (from langchain-huggingface) (0.34.3)\n",
      "Requirement already satisfied: filelock in c:\\users\\sunho&sanchita\\desktop\\bill-extractor-agent\\venv\\lib\\site-packages (from huggingface-hub>=0.33.4->langchain-huggingface) (3.18.0)\n",
      "Requirement already satisfied: fsspec>=2023.5.0 in c:\\users\\sunho&sanchita\\desktop\\bill-extractor-agent\\venv\\lib\\site-packages (from huggingface-hub>=0.33.4->langchain-huggingface) (2025.7.0)\n",
      "Requirement already satisfied: packaging>=20.9 in c:\\users\\sunho&sanchita\\desktop\\bill-extractor-agent\\venv\\lib\\site-packages (from huggingface-hub>=0.33.4->langchain-huggingface) (25.0)\n",
      "Requirement already satisfied: pyyaml>=5.1 in c:\\users\\sunho&sanchita\\desktop\\bill-extractor-agent\\venv\\lib\\site-packages (from huggingface-hub>=0.33.4->langchain-huggingface) (6.0.2)\n",
      "Requirement already satisfied: requests in c:\\users\\sunho&sanchita\\desktop\\bill-extractor-agent\\venv\\lib\\site-packages (from huggingface-hub>=0.33.4->langchain-huggingface) (2.32.4)\n",
      "Requirement already satisfied: tqdm>=4.42.1 in c:\\users\\sunho&sanchita\\desktop\\bill-extractor-agent\\venv\\lib\\site-packages (from huggingface-hub>=0.33.4->langchain-huggingface) (4.67.1)\n",
      "Requirement already satisfied: typing-extensions>=3.7.4.3 in c:\\users\\sunho&sanchita\\desktop\\bill-extractor-agent\\venv\\lib\\site-packages (from huggingface-hub>=0.33.4->langchain-huggingface) (4.14.1)\n",
      "Requirement already satisfied: langsmith>=0.3.45 in c:\\users\\sunho&sanchita\\desktop\\bill-extractor-agent\\venv\\lib\\site-packages (from langchain-core<1.0.0,>=0.3.70->langchain-huggingface) (0.4.9)\n",
      "Requirement already satisfied: tenacity!=8.4.0,<10.0.0,>=8.1.0 in c:\\users\\sunho&sanchita\\desktop\\bill-extractor-agent\\venv\\lib\\site-packages (from langchain-core<1.0.0,>=0.3.70->langchain-huggingface) (9.1.2)\n",
      "Requirement already satisfied: jsonpatch<2.0,>=1.33 in c:\\users\\sunho&sanchita\\desktop\\bill-extractor-agent\\venv\\lib\\site-packages (from langchain-core<1.0.0,>=0.3.70->langchain-huggingface) (1.33)\n",
      "Requirement already satisfied: pydantic>=2.7.4 in c:\\users\\sunho&sanchita\\desktop\\bill-extractor-agent\\venv\\lib\\site-packages (from langchain-core<1.0.0,>=0.3.70->langchain-huggingface) (2.11.7)\n",
      "Requirement already satisfied: jsonpointer>=1.9 in c:\\users\\sunho&sanchita\\desktop\\bill-extractor-agent\\venv\\lib\\site-packages (from jsonpatch<2.0,>=1.33->langchain-core<1.0.0,>=0.3.70->langchain-huggingface) (3.0.0)\n",
      "Requirement already satisfied: httpx<1,>=0.23.0 in c:\\users\\sunho&sanchita\\desktop\\bill-extractor-agent\\venv\\lib\\site-packages (from langsmith>=0.3.45->langchain-core<1.0.0,>=0.3.70->langchain-huggingface) (0.28.1)\n",
      "Requirement already satisfied: orjson<4.0.0,>=3.9.14 in c:\\users\\sunho&sanchita\\desktop\\bill-extractor-agent\\venv\\lib\\site-packages (from langsmith>=0.3.45->langchain-core<1.0.0,>=0.3.70->langchain-huggingface) (3.11.1)\n",
      "Requirement already satisfied: requests-toolbelt<2.0.0,>=1.0.0 in c:\\users\\sunho&sanchita\\desktop\\bill-extractor-agent\\venv\\lib\\site-packages (from langsmith>=0.3.45->langchain-core<1.0.0,>=0.3.70->langchain-huggingface) (1.0.0)\n",
      "Requirement already satisfied: zstandard<0.24.0,>=0.23.0 in c:\\users\\sunho&sanchita\\desktop\\bill-extractor-agent\\venv\\lib\\site-packages (from langsmith>=0.3.45->langchain-core<1.0.0,>=0.3.70->langchain-huggingface) (0.23.0)\n",
      "Requirement already satisfied: annotated-types>=0.6.0 in c:\\users\\sunho&sanchita\\desktop\\bill-extractor-agent\\venv\\lib\\site-packages (from pydantic>=2.7.4->langchain-core<1.0.0,>=0.3.70->langchain-huggingface) (0.7.0)\n",
      "Requirement already satisfied: pydantic-core==2.33.2 in c:\\users\\sunho&sanchita\\desktop\\bill-extractor-agent\\venv\\lib\\site-packages (from pydantic>=2.7.4->langchain-core<1.0.0,>=0.3.70->langchain-huggingface) (2.33.2)\n",
      "Requirement already satisfied: typing-inspection>=0.4.0 in c:\\users\\sunho&sanchita\\desktop\\bill-extractor-agent\\venv\\lib\\site-packages (from pydantic>=2.7.4->langchain-core<1.0.0,>=0.3.70->langchain-huggingface) (0.4.1)\n",
      "Requirement already satisfied: charset_normalizer<4,>=2 in c:\\users\\sunho&sanchita\\desktop\\bill-extractor-agent\\venv\\lib\\site-packages (from requests->huggingface-hub>=0.33.4->langchain-huggingface) (3.4.2)\n",
      "Requirement already satisfied: idna<4,>=2.5 in c:\\users\\sunho&sanchita\\desktop\\bill-extractor-agent\\venv\\lib\\site-packages (from requests->huggingface-hub>=0.33.4->langchain-huggingface) (3.10)\n",
      "Requirement already satisfied: urllib3<3,>=1.21.1 in c:\\users\\sunho&sanchita\\desktop\\bill-extractor-agent\\venv\\lib\\site-packages (from requests->huggingface-hub>=0.33.4->langchain-huggingface) (2.5.0)\n",
      "Requirement already satisfied: certifi>=2017.4.17 in c:\\users\\sunho&sanchita\\desktop\\bill-extractor-agent\\venv\\lib\\site-packages (from requests->huggingface-hub>=0.33.4->langchain-huggingface) (2025.7.14)\n",
      "Requirement already satisfied: colorama in c:\\users\\sunho&sanchita\\desktop\\bill-extractor-agent\\venv\\lib\\site-packages (from tqdm>=4.42.1->huggingface-hub>=0.33.4->langchain-huggingface) (0.4.6)\n",
      "Requirement already satisfied: anyio in c:\\users\\sunho&sanchita\\desktop\\bill-extractor-agent\\venv\\lib\\site-packages (from httpx<1,>=0.23.0->langsmith>=0.3.45->langchain-core<1.0.0,>=0.3.70->langchain-huggingface) (4.9.0)\n",
      "Requirement already satisfied: httpcore==1.* in c:\\users\\sunho&sanchita\\desktop\\bill-extractor-agent\\venv\\lib\\site-packages (from httpx<1,>=0.23.0->langsmith>=0.3.45->langchain-core<1.0.0,>=0.3.70->langchain-huggingface) (1.0.9)\n",
      "Requirement already satisfied: h11>=0.16 in c:\\users\\sunho&sanchita\\desktop\\bill-extractor-agent\\venv\\lib\\site-packages (from httpcore==1.*->httpx<1,>=0.23.0->langsmith>=0.3.45->langchain-core<1.0.0,>=0.3.70->langchain-huggingface) (0.16.0)\n",
      "Requirement already satisfied: sniffio>=1.1 in c:\\users\\sunho&sanchita\\desktop\\bill-extractor-agent\\venv\\lib\\site-packages (from anyio->httpx<1,>=0.23.0->langsmith>=0.3.45->langchain-core<1.0.0,>=0.3.70->langchain-huggingface) (1.3.1)\n",
      "Downloading langchain_huggingface-0.3.1-py3-none-any.whl (27 kB)\n",
      "Installing collected packages: langchain-huggingface\n",
      "Successfully installed langchain-huggingface-0.3.1\n"
     ]
    },
    {
     "name": "stderr",
     "output_type": "stream",
     "text": [
      "\n",
      "[notice] A new release of pip is available: 24.3.1 -> 25.2\n",
      "[notice] To update, run: python.exe -m pip install --upgrade pip\n"
     ]
    }
   ],
   "source": [
    "!pip install langchain-huggingface"
   ]
  },
  {
   "cell_type": "code",
   "execution_count": 17,
   "id": "2357aee1",
   "metadata": {},
   "outputs": [
    {
     "name": "stdout",
     "output_type": "stream",
     "text": [
      "Collecting langchain-openai\n",
      "  Downloading langchain_openai-0.3.30-py3-none-any.whl.metadata (2.4 kB)\n",
      "Collecting langchain-core<1.0.0,>=0.3.74 (from langchain-openai)\n",
      "  Downloading langchain_core-0.3.74-py3-none-any.whl.metadata (5.8 kB)\n",
      "Collecting openai<2.0.0,>=1.99.9 (from langchain-openai)\n",
      "  Downloading openai-1.100.2-py3-none-any.whl.metadata (29 kB)\n",
      "Collecting tiktoken<1,>=0.7 (from langchain-openai)\n",
      "  Downloading tiktoken-0.11.0-cp313-cp313-win_amd64.whl.metadata (6.9 kB)\n",
      "Requirement already satisfied: langsmith>=0.3.45 in c:\\users\\sunho&sanchita\\desktop\\bill-extractor-agent\\venv\\lib\\site-packages (from langchain-core<1.0.0,>=0.3.74->langchain-openai) (0.4.9)\n",
      "Requirement already satisfied: tenacity!=8.4.0,<10.0.0,>=8.1.0 in c:\\users\\sunho&sanchita\\desktop\\bill-extractor-agent\\venv\\lib\\site-packages (from langchain-core<1.0.0,>=0.3.74->langchain-openai) (9.1.2)\n",
      "Requirement already satisfied: jsonpatch<2.0,>=1.33 in c:\\users\\sunho&sanchita\\desktop\\bill-extractor-agent\\venv\\lib\\site-packages (from langchain-core<1.0.0,>=0.3.74->langchain-openai) (1.33)\n",
      "Requirement already satisfied: PyYAML>=5.3 in c:\\users\\sunho&sanchita\\desktop\\bill-extractor-agent\\venv\\lib\\site-packages (from langchain-core<1.0.0,>=0.3.74->langchain-openai) (6.0.2)\n",
      "Requirement already satisfied: typing-extensions>=4.7 in c:\\users\\sunho&sanchita\\desktop\\bill-extractor-agent\\venv\\lib\\site-packages (from langchain-core<1.0.0,>=0.3.74->langchain-openai) (4.14.1)\n",
      "Requirement already satisfied: packaging>=23.2 in c:\\users\\sunho&sanchita\\desktop\\bill-extractor-agent\\venv\\lib\\site-packages (from langchain-core<1.0.0,>=0.3.74->langchain-openai) (25.0)\n",
      "Requirement already satisfied: pydantic>=2.7.4 in c:\\users\\sunho&sanchita\\desktop\\bill-extractor-agent\\venv\\lib\\site-packages (from langchain-core<1.0.0,>=0.3.74->langchain-openai) (2.11.7)\n",
      "Requirement already satisfied: anyio<5,>=3.5.0 in c:\\users\\sunho&sanchita\\desktop\\bill-extractor-agent\\venv\\lib\\site-packages (from openai<2.0.0,>=1.99.9->langchain-openai) (4.9.0)\n",
      "Requirement already satisfied: distro<2,>=1.7.0 in c:\\users\\sunho&sanchita\\desktop\\bill-extractor-agent\\venv\\lib\\site-packages (from openai<2.0.0,>=1.99.9->langchain-openai) (1.9.0)\n",
      "Requirement already satisfied: httpx<1,>=0.23.0 in c:\\users\\sunho&sanchita\\desktop\\bill-extractor-agent\\venv\\lib\\site-packages (from openai<2.0.0,>=1.99.9->langchain-openai) (0.28.1)\n",
      "Collecting jiter<1,>=0.4.0 (from openai<2.0.0,>=1.99.9->langchain-openai)\n",
      "  Using cached jiter-0.10.0-cp313-cp313-win_amd64.whl.metadata (5.3 kB)\n",
      "Requirement already satisfied: sniffio in c:\\users\\sunho&sanchita\\desktop\\bill-extractor-agent\\venv\\lib\\site-packages (from openai<2.0.0,>=1.99.9->langchain-openai) (1.3.1)\n",
      "Requirement already satisfied: tqdm>4 in c:\\users\\sunho&sanchita\\desktop\\bill-extractor-agent\\venv\\lib\\site-packages (from openai<2.0.0,>=1.99.9->langchain-openai) (4.67.1)\n",
      "Requirement already satisfied: regex>=2022.1.18 in c:\\users\\sunho&sanchita\\desktop\\bill-extractor-agent\\venv\\lib\\site-packages (from tiktoken<1,>=0.7->langchain-openai) (2025.7.34)\n",
      "Requirement already satisfied: requests>=2.26.0 in c:\\users\\sunho&sanchita\\desktop\\bill-extractor-agent\\venv\\lib\\site-packages (from tiktoken<1,>=0.7->langchain-openai) (2.32.4)\n",
      "Requirement already satisfied: idna>=2.8 in c:\\users\\sunho&sanchita\\desktop\\bill-extractor-agent\\venv\\lib\\site-packages (from anyio<5,>=3.5.0->openai<2.0.0,>=1.99.9->langchain-openai) (3.10)\n",
      "Requirement already satisfied: certifi in c:\\users\\sunho&sanchita\\desktop\\bill-extractor-agent\\venv\\lib\\site-packages (from httpx<1,>=0.23.0->openai<2.0.0,>=1.99.9->langchain-openai) (2025.7.14)\n",
      "Requirement already satisfied: httpcore==1.* in c:\\users\\sunho&sanchita\\desktop\\bill-extractor-agent\\venv\\lib\\site-packages (from httpx<1,>=0.23.0->openai<2.0.0,>=1.99.9->langchain-openai) (1.0.9)\n",
      "Requirement already satisfied: h11>=0.16 in c:\\users\\sunho&sanchita\\desktop\\bill-extractor-agent\\venv\\lib\\site-packages (from httpcore==1.*->httpx<1,>=0.23.0->openai<2.0.0,>=1.99.9->langchain-openai) (0.16.0)\n",
      "Requirement already satisfied: jsonpointer>=1.9 in c:\\users\\sunho&sanchita\\desktop\\bill-extractor-agent\\venv\\lib\\site-packages (from jsonpatch<2.0,>=1.33->langchain-core<1.0.0,>=0.3.74->langchain-openai) (3.0.0)\n",
      "Requirement already satisfied: orjson<4.0.0,>=3.9.14 in c:\\users\\sunho&sanchita\\desktop\\bill-extractor-agent\\venv\\lib\\site-packages (from langsmith>=0.3.45->langchain-core<1.0.0,>=0.3.74->langchain-openai) (3.11.1)\n",
      "Requirement already satisfied: requests-toolbelt<2.0.0,>=1.0.0 in c:\\users\\sunho&sanchita\\desktop\\bill-extractor-agent\\venv\\lib\\site-packages (from langsmith>=0.3.45->langchain-core<1.0.0,>=0.3.74->langchain-openai) (1.0.0)\n",
      "Requirement already satisfied: zstandard<0.24.0,>=0.23.0 in c:\\users\\sunho&sanchita\\desktop\\bill-extractor-agent\\venv\\lib\\site-packages (from langsmith>=0.3.45->langchain-core<1.0.0,>=0.3.74->langchain-openai) (0.23.0)\n",
      "Requirement already satisfied: annotated-types>=0.6.0 in c:\\users\\sunho&sanchita\\desktop\\bill-extractor-agent\\venv\\lib\\site-packages (from pydantic>=2.7.4->langchain-core<1.0.0,>=0.3.74->langchain-openai) (0.7.0)\n",
      "Requirement already satisfied: pydantic-core==2.33.2 in c:\\users\\sunho&sanchita\\desktop\\bill-extractor-agent\\venv\\lib\\site-packages (from pydantic>=2.7.4->langchain-core<1.0.0,>=0.3.74->langchain-openai) (2.33.2)\n",
      "Requirement already satisfied: typing-inspection>=0.4.0 in c:\\users\\sunho&sanchita\\desktop\\bill-extractor-agent\\venv\\lib\\site-packages (from pydantic>=2.7.4->langchain-core<1.0.0,>=0.3.74->langchain-openai) (0.4.1)\n",
      "Requirement already satisfied: charset_normalizer<4,>=2 in c:\\users\\sunho&sanchita\\desktop\\bill-extractor-agent\\venv\\lib\\site-packages (from requests>=2.26.0->tiktoken<1,>=0.7->langchain-openai) (3.4.2)\n",
      "Requirement already satisfied: urllib3<3,>=1.21.1 in c:\\users\\sunho&sanchita\\desktop\\bill-extractor-agent\\venv\\lib\\site-packages (from requests>=2.26.0->tiktoken<1,>=0.7->langchain-openai) (2.5.0)\n",
      "Requirement already satisfied: colorama in c:\\users\\sunho&sanchita\\desktop\\bill-extractor-agent\\venv\\lib\\site-packages (from tqdm>4->openai<2.0.0,>=1.99.9->langchain-openai) (0.4.6)\n",
      "Downloading langchain_openai-0.3.30-py3-none-any.whl (74 kB)\n",
      "Downloading langchain_core-0.3.74-py3-none-any.whl (443 kB)\n",
      "Downloading openai-1.100.2-py3-none-any.whl (787 kB)\n",
      "   ---------------------------------------- 0.0/787.8 kB ? eta -:--:--\n",
      "   ---------------------------------------- 787.8/787.8 kB 7.0 MB/s eta 0:00:00\n",
      "Downloading tiktoken-0.11.0-cp313-cp313-win_amd64.whl (883 kB)\n",
      "   ---------------------------------------- 0.0/883.9 kB ? eta -:--:--\n",
      "   ---------------------------------------- 883.9/883.9 kB 7.6 MB/s eta 0:00:00\n",
      "Using cached jiter-0.10.0-cp313-cp313-win_amd64.whl (205 kB)\n",
      "Installing collected packages: jiter, tiktoken, openai, langchain-core, langchain-openai\n",
      "  Attempting uninstall: langchain-core\n",
      "    Found existing installation: langchain-core 0.3.72\n",
      "    Uninstalling langchain-core-0.3.72:\n",
      "      Successfully uninstalled langchain-core-0.3.72\n",
      "Successfully installed jiter-0.10.0 langchain-core-0.3.74 langchain-openai-0.3.30 openai-1.100.2 tiktoken-0.11.0\n",
      "Note: you may need to restart the kernel to use updated packages.\n"
     ]
    },
    {
     "name": "stderr",
     "output_type": "stream",
     "text": [
      "\n",
      "[notice] A new release of pip is available: 24.3.1 -> 25.2\n",
      "[notice] To update, run: python.exe -m pip install --upgrade pip\n"
     ]
    }
   ],
   "source": [
    "%pip install langchain-openai"
   ]
  },
  {
   "cell_type": "code",
   "execution_count": 23,
   "id": "5bd9032d",
   "metadata": {},
   "outputs": [
    {
     "name": "stdout",
     "output_type": "stream",
     "text": [
      "Collecting fastembed\n",
      "  Downloading fastembed-0.7.1-py3-none-any.whl.metadata (10 kB)\n",
      "Requirement already satisfied: huggingface-hub<1.0,>=0.20 in c:\\users\\sunho&sanchita\\desktop\\bill-extractor-agent\\venv\\lib\\site-packages (from fastembed) (0.34.3)\n",
      "Collecting loguru<0.8.0,>=0.7.2 (from fastembed)\n",
      "  Using cached loguru-0.7.3-py3-none-any.whl.metadata (22 kB)\n",
      "Requirement already satisfied: mmh3<6.0.0,>=4.1.0 in c:\\users\\sunho&sanchita\\desktop\\bill-extractor-agent\\venv\\lib\\site-packages (from fastembed) (5.2.0)\n",
      "Requirement already satisfied: numpy>=2.1.0 in c:\\users\\sunho&sanchita\\desktop\\bill-extractor-agent\\venv\\lib\\site-packages (from fastembed) (2.3.2)\n",
      "Requirement already satisfied: onnxruntime>1.20.0 in c:\\users\\sunho&sanchita\\desktop\\bill-extractor-agent\\venv\\lib\\site-packages (from fastembed) (1.22.1)\n",
      "Requirement already satisfied: pillow<12.0.0,>=10.3.0 in c:\\users\\sunho&sanchita\\desktop\\bill-extractor-agent\\venv\\lib\\site-packages (from fastembed) (11.3.0)\n",
      "Collecting py-rust-stemmers<0.2.0,>=0.1.0 (from fastembed)\n",
      "  Using cached py_rust_stemmers-0.1.5-cp313-none-win_amd64.whl.metadata (3.5 kB)\n",
      "Requirement already satisfied: requests<3.0,>=2.31 in c:\\users\\sunho&sanchita\\desktop\\bill-extractor-agent\\venv\\lib\\site-packages (from fastembed) (2.32.4)\n",
      "Requirement already satisfied: tokenizers<1.0,>=0.15 in c:\\users\\sunho&sanchita\\desktop\\bill-extractor-agent\\venv\\lib\\site-packages (from fastembed) (0.21.4)\n",
      "Requirement already satisfied: tqdm<5.0,>=4.66 in c:\\users\\sunho&sanchita\\desktop\\bill-extractor-agent\\venv\\lib\\site-packages (from fastembed) (4.67.1)\n",
      "Requirement already satisfied: filelock in c:\\users\\sunho&sanchita\\desktop\\bill-extractor-agent\\venv\\lib\\site-packages (from huggingface-hub<1.0,>=0.20->fastembed) (3.18.0)\n",
      "Requirement already satisfied: fsspec>=2023.5.0 in c:\\users\\sunho&sanchita\\desktop\\bill-extractor-agent\\venv\\lib\\site-packages (from huggingface-hub<1.0,>=0.20->fastembed) (2025.7.0)\n",
      "Requirement already satisfied: packaging>=20.9 in c:\\users\\sunho&sanchita\\desktop\\bill-extractor-agent\\venv\\lib\\site-packages (from huggingface-hub<1.0,>=0.20->fastembed) (25.0)\n",
      "Requirement already satisfied: pyyaml>=5.1 in c:\\users\\sunho&sanchita\\desktop\\bill-extractor-agent\\venv\\lib\\site-packages (from huggingface-hub<1.0,>=0.20->fastembed) (6.0.2)\n",
      "Requirement already satisfied: typing-extensions>=3.7.4.3 in c:\\users\\sunho&sanchita\\desktop\\bill-extractor-agent\\venv\\lib\\site-packages (from huggingface-hub<1.0,>=0.20->fastembed) (4.14.1)\n",
      "Requirement already satisfied: colorama>=0.3.4 in c:\\users\\sunho&sanchita\\desktop\\bill-extractor-agent\\venv\\lib\\site-packages (from loguru<0.8.0,>=0.7.2->fastembed) (0.4.6)\n",
      "Collecting win32-setctime>=1.0.0 (from loguru<0.8.0,>=0.7.2->fastembed)\n",
      "  Using cached win32_setctime-1.2.0-py3-none-any.whl.metadata (2.4 kB)\n",
      "Requirement already satisfied: coloredlogs in c:\\users\\sunho&sanchita\\desktop\\bill-extractor-agent\\venv\\lib\\site-packages (from onnxruntime>1.20.0->fastembed) (15.0.1)\n",
      "Requirement already satisfied: flatbuffers in c:\\users\\sunho&sanchita\\desktop\\bill-extractor-agent\\venv\\lib\\site-packages (from onnxruntime>1.20.0->fastembed) (25.2.10)\n",
      "Requirement already satisfied: protobuf in c:\\users\\sunho&sanchita\\desktop\\bill-extractor-agent\\venv\\lib\\site-packages (from onnxruntime>1.20.0->fastembed) (6.31.1)\n",
      "Requirement already satisfied: sympy in c:\\users\\sunho&sanchita\\desktop\\bill-extractor-agent\\venv\\lib\\site-packages (from onnxruntime>1.20.0->fastembed) (1.14.0)\n",
      "Requirement already satisfied: charset_normalizer<4,>=2 in c:\\users\\sunho&sanchita\\desktop\\bill-extractor-agent\\venv\\lib\\site-packages (from requests<3.0,>=2.31->fastembed) (3.4.2)\n",
      "Requirement already satisfied: idna<4,>=2.5 in c:\\users\\sunho&sanchita\\desktop\\bill-extractor-agent\\venv\\lib\\site-packages (from requests<3.0,>=2.31->fastembed) (3.10)\n",
      "Requirement already satisfied: urllib3<3,>=1.21.1 in c:\\users\\sunho&sanchita\\desktop\\bill-extractor-agent\\venv\\lib\\site-packages (from requests<3.0,>=2.31->fastembed) (2.5.0)\n",
      "Requirement already satisfied: certifi>=2017.4.17 in c:\\users\\sunho&sanchita\\desktop\\bill-extractor-agent\\venv\\lib\\site-packages (from requests<3.0,>=2.31->fastembed) (2025.7.14)\n",
      "Requirement already satisfied: humanfriendly>=9.1 in c:\\users\\sunho&sanchita\\desktop\\bill-extractor-agent\\venv\\lib\\site-packages (from coloredlogs->onnxruntime>1.20.0->fastembed) (10.0)\n",
      "Requirement already satisfied: mpmath<1.4,>=1.1.0 in c:\\users\\sunho&sanchita\\desktop\\bill-extractor-agent\\venv\\lib\\site-packages (from sympy->onnxruntime>1.20.0->fastembed) (1.3.0)\n",
      "Requirement already satisfied: pyreadline3 in c:\\users\\sunho&sanchita\\desktop\\bill-extractor-agent\\venv\\lib\\site-packages (from humanfriendly>=9.1->coloredlogs->onnxruntime>1.20.0->fastembed) (3.5.4)\n",
      "Downloading fastembed-0.7.1-py3-none-any.whl (100 kB)\n",
      "Using cached loguru-0.7.3-py3-none-any.whl (61 kB)\n",
      "Using cached py_rust_stemmers-0.1.5-cp313-none-win_amd64.whl (209 kB)\n",
      "Using cached win32_setctime-1.2.0-py3-none-any.whl (4.1 kB)\n",
      "Installing collected packages: py-rust-stemmers, win32-setctime, loguru, fastembed\n",
      "Successfully installed fastembed-0.7.1 loguru-0.7.3 py-rust-stemmers-0.1.5 win32-setctime-1.2.0\n",
      "Note: you may need to restart the kernel to use updated packages.\n"
     ]
    },
    {
     "name": "stderr",
     "output_type": "stream",
     "text": [
      "\n",
      "[notice] A new release of pip is available: 24.3.1 -> 25.2\n",
      "[notice] To update, run: python.exe -m pip install --upgrade pip\n"
     ]
    }
   ],
   "source": [
    "%pip install fastembed"
   ]
  },
  {
   "cell_type": "code",
   "execution_count": 12,
   "id": "a76e5deb",
   "metadata": {},
   "outputs": [
    {
     "name": "stdout",
     "output_type": "stream",
     "text": [
      "2\n"
     ]
    },
    {
     "name": "stderr",
     "output_type": "stream",
     "text": [
      "<>:3: SyntaxWarning: invalid escape sequence '\\e'\n",
      "<>:3: SyntaxWarning: invalid escape sequence '\\e'\n",
      "C:\\Users\\Sunho&Sanchita\\AppData\\Local\\Temp\\ipykernel_27460\\3746209455.py:3: SyntaxWarning: invalid escape sequence '\\e'\n",
      "  loader = UnstructuredExcelLoader(\"local_storage\\extracts\\extractedData.xlsx\", mode=\"elements\")\n"
     ]
    },
    {
     "data": {
      "text/plain": [
       "[Document(metadata={'source': 'local_storage\\\\extracts\\\\extractedData.xlsx', 'file_directory': 'local_storage\\\\extracts', 'filename': 'extractedData.xlsx', 'last_modified': '2025-08-21T21:27:22', 'page_name': 'Invoices', 'page_number': 1, 'text_as_html': '<table><tr><td>Is_Invoice</td><td>Invoice_Number</td><td>Invoice_Date</td><td>Net_SUM</td><td>Gross_SUM</td><td>VAT_Percentage</td><td>VAT_Amount</td><td>Invoice_Sender_Name</td><td>Invoice_Sender_Address</td><td>Invoice_Recipient_Name</td><td>Invoice_Recipient_Address</td><td>Invoice_Payment_Terms</td><td>Payment_Method</td><td>Category_Classification</td><td>Is_Subscription</td><td>START_Date</td><td>END_Date</td><td>Tips</td><td>Original_Filename</td><td>Upload_Timestamp</td><td>Handwritten_Comment</td><td>Model_Abouts</td></tr><tr><td>True</td><td>48877/50174П</td><td>20.02.2025</td><td>7.993,33</td><td>9.592,00</td><td>20.00%</td><td>1.598,67</td><td>Kockarium DOO</td><td>БУЛЕВАР ВУДРОА ВИЛСОНА 12 2 2 708, Београд-Савски Венац</td><td>Cash Customer</td><td>Unknown</td><td/><td>Cash</td><td>General Retail</td><td>False</td><td/><td/><td/><td>page.jpg</td><td>2025-07-24T02:44:44.150741</td><td/><td>{\"Input_Tokens\": \"1009\", \"Output_Tokens\": \"335\", \"Total_Tokens\": \"3141\", \"Local_Path\": \"local_storage/invoices/page.jpg\"}</td></tr><tr><td>True</td><td>82678/85328/1</td><td>20.02.2025</td><td>3341,67</td><td>4010,00</td><td>20.00%</td><td>668,33</td><td>TAMICO D.O.O.</td><td>KNEZ MIHAILOVA 54 BEOGRAD VRACAR</td><td>Cash Customer</td><td>Unknown</td><td/><td/><td>Food &amp; Beverage</td><td>False</td><td/><td/><td>490,00</td><td>PDOcpPHyFDd5UV_MnehD.jpg</td><td>2025-07-24T09:53:36.079064</td><td>Speisen und Getränke, =4500,= Porl.</td><td>{\"Input_Tokens\": \"1009\", \"Output_Tokens\": \"328\", \"Total_Tokens\": \"3658\", \"Local_Path\": \"local_storage/invoices/PDOcpPHyFDd5UV_MnehD.jpg\"}</td></tr><tr><td>True</td><td>000014</td><td>16-06-2025</td><td>476,18</td><td>500,00</td><td>5.00%</td><td>23,82</td><td>HOTEL NEW SUNSHINE</td><td>B5/49 SHIVALA VARANASI</td><td>Cash Customer</td><td>Unknown</td><td/><td>Cash</td><td>Food &amp; Beverage</td><td>False</td><td/><td/><td>0,00</td><td>M660a0hcp3cbVH4d7r31.jpg</td><td>2025-08-01T15:36:02.899598</td><td/><td>{\"Input_Tokens\": \"1009\", \"Output_Tokens\": \"295\", \"Total_Tokens\": \"2628\", \"Local_Path\": \"local_storage/invoices/M660a0hcp3cbVH4d7r31.jpg\"}</td></tr><tr><td>True</td><td>TED8NRH9-TED8NRH9-5017448877/50174ПП</td><td>20.02.2025</td><td>7.993,33</td><td>9.592,00</td><td>20.00%</td><td>1.598,67</td><td>Kockarium DOO</td><td>БУЛЕВАР ВУДРОА ВИЛСОНА 12 2 Београд-Савски Венац</td><td>Cash Customer</td><td>Unknown</td><td/><td>Cash</td><td>Toys &amp; Games</td><td>False</td><td/><td/><td/><td>SOrc8wWaiicUWUFhEtjd.jpg</td><td>2025-08-01T16:29:23.232707</td><td/><td>{\"Input_Tokens\": \"1009\", \"Output_Tokens\": \"347\", \"Total_Tokens\": \"3020\", \"Local_Path\": \"local_storage/invoices/SOrc8wWaiicUWUFhEtjd_1.jpg\"}</td></tr><tr><td>True</td><td>ТE1D8NRH9-TE1D8NRH9-50174 48877/50174ПП</td><td>20.02.2025</td><td>7993,33</td><td>9592,00</td><td>20.00%</td><td>1598,67</td><td>Kockarium DOO</td><td>БУЛЕВАР ВУДРОА ВИЛСОНА 12 2</td><td>Cash Customer</td><td>Unknown</td><td/><td>Cash</td><td>General Merchandise</td><td>False</td><td/><td/><td>0,00</td><td>-ocfyLpEX9QM9xQ2q2pv.jpg</td><td>2025-08-21T18:30:37.902519</td><td/><td>{\"Input_Tokens\": \"1009\", \"Output_Tokens\": \"339\", \"Total_Tokens\": \"3468\", \"Local_Path\": \"local_storage/invoices/-ocfyLpEX9QM9xQ2q2pv.jpg\"}</td></tr><tr><td>True</td><td>DTAM/1060/18-19</td><td>30-Mar-2019</td><td>55084,75</td><td>65000,00</td><td>18.00%</td><td>9915,25</td><td>DELL EXCLUSIVE STORE</td><td>No.68, GST ROAD, OPP RAMA ANJANEYAR TEMPLE, TAMBARAM SANATORUIM, CHENNAI - 47</td><td>A.J.D. NANTHAKUMAR</td><td>FLAT NO.1B, BLOCK NO.5, NATWEST AURA APARTMENTS, REVATHIPURAM, URAPAKKAM, CHENNAI, TamilNadu,603210</td><td/><td>CARD</td><td>Electronics</td><td>False</td><td/><td/><td/><td>bvF7mUzsV2UxnvDLXbIc.jpg</td><td>2025-08-21T21:26:42.333290</td><td>ajdnanthku</td><td>{\"Input_Tokens\": \"1009\", \"Output_Tokens\": \"379\", \"Total_Tokens\": \"3720\", \"Local_Path\": \"local_storage/invoices/bvF7mUzsV2UxnvDLXbIc_5.jpg\"}</td></tr><tr><td>True</td><td>48877/50174ПП</td><td>20.02.2025</td><td>7.993,33</td><td>9.592,00</td><td>20.00%</td><td>1.598,67</td><td>Kockarium DOO</td><td>БУЛЕВАР ВУДРОА ВИЛСОНА 12 2 2 708 Београд-Савски Венац</td><td>Cash Customer</td><td>Unknown</td><td/><td>Cash</td><td>Toys &amp; Hobbies</td><td>False</td><td/><td/><td>0,00</td><td>8uS5tAIu6-gTaraCfRbI.jpg</td><td>2025-08-21T21:27:22.029340</td><td/><td>{\"Input_Tokens\": \"1009\", \"Output_Tokens\": \"338\", \"Total_Tokens\": \"3363\", \"Local_Path\": \"local_storage/invoices/8uS5tAIu6-gTaraCfRbI_2.jpg\"}</td></tr></table>', 'languages': ['eng'], 'filetype': 'application/vnd.openxmlformats-officedocument.spreadsheetml.sheet', 'category': 'Table', 'element_id': 'e90ab6898e19fa527317dfd0d8849510'}, page_content='Is_Invoice Invoice_Number Invoice_Date Net_SUM Gross_SUM VAT_Percentage VAT_Amount Invoice_Sender_Name Invoice_Sender_Address Invoice_Recipient_Name Invoice_Recipient_Address Invoice_Payment_Terms Payment_Method Category_Classification Is_Subscription START_Date END_Date Tips Original_Filename Upload_Timestamp Handwritten_Comment Model_Abouts True 48877/50174П 20.02.2025 7.993,33 9.592,00 20.00% 1.598,67 Kockarium DOO БУЛЕВАР ВУДРОА ВИЛСОНА 12 2 2 708, Београд-Савски Венац Cash Customer Unknown Cash General Retail False page.jpg 2025-07-24T02:44:44.150741 {\"Input_Tokens\": \"1009\", \"Output_Tokens\": \"335\", \"Total_Tokens\": \"3141\", \"Local_Path\": \"local_storage/invoices/page.jpg\"} True 82678/85328/1 20.02.2025 3341,67 4010,00 20.00% 668,33 TAMICO D.O.O. KNEZ MIHAILOVA 54 BEOGRAD VRACAR Cash Customer Unknown Food & Beverage False 490,00 PDOcpPHyFDd5UV_MnehD.jpg 2025-07-24T09:53:36.079064 Speisen und Getränke, =4500,= Porl. {\"Input_Tokens\": \"1009\", \"Output_Tokens\": \"328\", \"Total_Tokens\": \"3658\", \"Local_Path\": \"local_storage/invoices/PDOcpPHyFDd5UV_MnehD.jpg\"} True 000014 16-06-2025 476,18 500,00 5.00% 23,82 HOTEL NEW SUNSHINE B5/49 SHIVALA VARANASI Cash Customer Unknown Cash Food & Beverage False 0,00 M660a0hcp3cbVH4d7r31.jpg 2025-08-01T15:36:02.899598 {\"Input_Tokens\": \"1009\", \"Output_Tokens\": \"295\", \"Total_Tokens\": \"2628\", \"Local_Path\": \"local_storage/invoices/M660a0hcp3cbVH4d7r31.jpg\"} True TED8NRH9-TED8NRH9-5017448877/50174ПП 20.02.2025 7.993,33 9.592,00 20.00% 1.598,67 Kockarium DOO БУЛЕВАР ВУДРОА ВИЛСОНА 12 2 Београд-Савски Венац Cash Customer Unknown Cash Toys & Games False SOrc8wWaiicUWUFhEtjd.jpg 2025-08-01T16:29:23.232707 {\"Input_Tokens\": \"1009\", \"Output_Tokens\": \"347\", \"Total_Tokens\": \"3020\", \"Local_Path\": \"local_storage/invoices/SOrc8wWaiicUWUFhEtjd_1.jpg\"} True ТE1D8NRH9-TE1D8NRH9-50174 48877/50174ПП 20.02.2025 7993,33 9592,00 20.00% 1598,67 Kockarium DOO БУЛЕВАР ВУДРОА ВИЛСОНА 12 2 Cash Customer Unknown Cash General Merchandise False 0,00 -ocfyLpEX9QM9xQ2q2pv.jpg 2025-08-21T18:30:37.902519 {\"Input_Tokens\": \"1009\", \"Output_Tokens\": \"339\", \"Total_Tokens\": \"3468\", \"Local_Path\": \"local_storage/invoices/-ocfyLpEX9QM9xQ2q2pv.jpg\"} True DTAM/1060/18-19 30-Mar-2019 55084,75 65000,00 18.00% 9915,25 DELL EXCLUSIVE STORE No.68, GST ROAD, OPP RAMA ANJANEYAR TEMPLE, TAMBARAM SANATORUIM, CHENNAI - 47 A.J.D. NANTHAKUMAR FLAT NO.1B, BLOCK NO.5, NATWEST AURA APARTMENTS, REVATHIPURAM, URAPAKKAM, CHENNAI, TamilNadu,603210 CARD Electronics False bvF7mUzsV2UxnvDLXbIc.jpg 2025-08-21T21:26:42.333290 ajdnanthku {\"Input_Tokens\": \"1009\", \"Output_Tokens\": \"379\", \"Total_Tokens\": \"3720\", \"Local_Path\": \"local_storage/invoices/bvF7mUzsV2UxnvDLXbIc_5.jpg\"} True 48877/50174ПП 20.02.2025 7.993,33 9.592,00 20.00% 1.598,67 Kockarium DOO БУЛЕВАР ВУДРОА ВИЛСОНА 12 2 2 708 Београд-Савски Венац Cash Customer Unknown Cash Toys & Hobbies False 0,00 8uS5tAIu6-gTaraCfRbI.jpg 2025-08-21T21:27:22.029340 {\"Input_Tokens\": \"1009\", \"Output_Tokens\": \"338\", \"Total_Tokens\": \"3363\", \"Local_Path\": \"local_storage/invoices/8uS5tAIu6-gTaraCfRbI_2.jpg\"}'),\n",
       " Document(metadata={'source': 'local_storage\\\\extracts\\\\extractedData.xlsx', 'file_directory': 'local_storage\\\\extracts', 'filename': 'extractedData.xlsx', 'last_modified': '2025-08-21T21:27:22', 'page_name': 'Metadata', 'page_number': 2, 'text_as_html': '<table><tr><td>Last_Updated</td><td>Total_Records</td><td>Columns</td><td>New_Records_Added</td></tr><tr><td>2025-08-21T21:27:22.127456</td><td>7</td><td>Is_Invoice, Invoice_Number, Invoice_Date, Net_SUM, Gross_SUM, VAT_Percentage, VAT_Amount, Invoice_Sender_Name, Invoice_Sender_Address, Invoice_Recipient_Name, Invoice_Recipient_Address, Invoice_Payment_Terms, Payment_Method, Category_Classification, Is_Subscription, START_Date, END_Date, Tips, Original_Filename, Upload_Timestamp, Handwritten_Comment, Model_Abouts</td><td>1</td></tr></table>', 'languages': ['eng'], 'filetype': 'application/vnd.openxmlformats-officedocument.spreadsheetml.sheet', 'category': 'Table', 'element_id': '9eba3d3ef3d129db911aba9e136c7b33'}, page_content='Last_Updated Total_Records Columns New_Records_Added 2025-08-21T21:27:22.127456 7 Is_Invoice, Invoice_Number, Invoice_Date, Net_SUM, Gross_SUM, VAT_Percentage, VAT_Amount, Invoice_Sender_Name, Invoice_Sender_Address, Invoice_Recipient_Name, Invoice_Recipient_Address, Invoice_Payment_Terms, Payment_Method, Category_Classification, Is_Subscription, START_Date, END_Date, Tips, Original_Filename, Upload_Timestamp, Handwritten_Comment, Model_Abouts 1')]"
      ]
     },
     "execution_count": 12,
     "metadata": {},
     "output_type": "execute_result"
    }
   ],
   "source": [
    "from langchain_community.document_loaders import UnstructuredExcelLoader\n",
    "\n",
    "loader = UnstructuredExcelLoader(\"local_storage\\extracts\\extractedData.xlsx\", mode=\"elements\")\n",
    "docs = loader.load()\n",
    "\n",
    "print(len(docs))\n",
    "\n",
    "docs"
   ]
  },
  {
   "cell_type": "code",
   "execution_count": 21,
   "id": "4c5ff766",
   "metadata": {},
   "outputs": [
    {
     "name": "stdout",
     "output_type": "stream",
     "text": [
      "Is_Invoice Invoice_Number Invoice_Date Net_SUM Gross_SUM VAT_Percentage VAT_Amount Invoice_Sender_Name Invoice_Sender_Address Invoice_Recipient_Name Invoice_Recipient_Address Invoice_Payment_Terms Payment_Method Category_Classification Is_Subscription START_Date END_Date Tips Original_Filename Upload_Timestamp Handwritten_Comment Model_Abouts True 48877/50174П 20.02.2025 7.993,33 9.592,00 20.00% 1.598,67 Kockarium DOO БУЛЕВАР ВУДРОА ВИЛСОНА 12 2 2 708, Београд-Савски Венац Cash Customer Unknown Cash General Retail False page.jpg 2025-07-24T02:44:44.150741 {\"Input_Tokens\": \"1009\", \"Output_Tokens\": \"335\", \"Total_Tokens\": \"3141\", \"Local_Path\": \"local_storage/invoices/page.jpg\"} True 82678/85328/1 20.02.2025 3341,67 4010,00 20.00% 668,33 TAMICO D.O.O. KNEZ MIHAILOVA 54 BEOGRAD VRACAR Cash Customer Unknown Food & Beverage False 490,00 PDOcpPHyFDd5UV_MnehD.jpg 2025-07-24T09:53:36.079064 Speisen und Getränke, =4500,= Porl. {\"Input_Tokens\": \"1009\", \"Output_Tokens\": \"328\", \"Total_Tokens\": \"3658\", \"Local_Path\": \"local_storage/invoices/PDOcpPHyFDd5UV_MnehD.jpg\"} True 000014 16-06-2025 476,18 500,00 5.00% 23,82 HOTEL NEW SUNSHINE B5/49 SHIVALA VARANASI Cash Customer Unknown Cash Food & Beverage False 0,00 M660a0hcp3cbVH4d7r31.jpg 2025-08-01T15:36:02.899598 {\"Input_Tokens\": \"1009\", \"Output_Tokens\": \"295\", \"Total_Tokens\": \"2628\", \"Local_Path\": \"local_storage/invoices/M660a0hcp3cbVH4d7r31.jpg\"} True TED8NRH9-TED8NRH9-5017448877/50174ПП 20.02.2025 7.993,33 9.592,00 20.00% 1.598,67 Kockarium DOO БУЛЕВАР ВУДРОА ВИЛСОНА 12 2 Београд-Савски Венац Cash Customer Unknown Cash Toys & Games False SOrc8wWaiicUWUFhEtjd.jpg 2025-08-01T16:29:23.232707 {\"Input_Tokens\": \"1009\", \"Output_Tokens\": \"347\", \"Total_Tokens\": \"3020\", \"Local_Path\": \"local_storage/invoices/SOrc8wWaiicUWUFhEtjd_1.jpg\"} True ТE1D8NRH9-TE1D8NRH9-50174 48877/50174ПП 20.02.2025 7993,33 9592,00 20.00% 1598,67 Kockarium DOO БУЛЕВАР ВУДРОА ВИЛСОНА 12 2 Cash Customer Unknown Cash General Merchandise False 0,00 -ocfyLpEX9QM9xQ2q2pv.jpg 2025-08-21T18:30:37.902519 {\"Input_Tokens\": \"1009\", \"Output_Tokens\": \"339\", \"Total_Tokens\": \"3468\", \"Local_Path\": \"local_storage/invoices/-ocfyLpEX9QM9xQ2q2pv.jpg\"} True DTAM/1060/18-19 30-Mar-2019 55084,75 65000,00 18.00% 9915,25 DELL EXCLUSIVE STORE No.68, GST ROAD, OPP RAMA ANJANEYAR TEMPLE, TAMBARAM SANATORUIM, CHENNAI - 47 A.J.D. NANTHAKUMAR FLAT NO.1B, BLOCK NO.5, NATWEST AURA APARTMENTS, REVATHIPURAM, URAPAKKAM, CHENNAI, TamilNadu,603210 CARD Electronics False bvF7mUzsV2UxnvDLXbIc.jpg 2025-08-21T21:26:42.333290 ajdnanthku {\"Input_Tokens\": \"1009\", \"Output_Tokens\": \"379\", \"Total_Tokens\": \"3720\", \"Local_Path\": \"local_storage/invoices/bvF7mUzsV2UxnvDLXbIc_5.jpg\"} True 48877/50174ПП 20.02.2025 7.993,33 9.592,00 20.00% 1.598,67 Kockarium DOO БУЛЕВАР ВУДРОА ВИЛСОНА 12 2 2 708 Београд-Савски Венац Cash Customer Unknown Cash Toys & Hobbies False 0,00 8uS5tAIu6-gTaraCfRbI.jpg 2025-08-21T21:27:22.029340 {\"Input_Tokens\": \"1009\", \"Output_Tokens\": \"338\", \"Total_Tokens\": \"3363\", \"Local_Path\": \"local_storage/invoices/8uS5tAIu6-gTaraCfRbI_2.jpg\"}\n"
     ]
    }
   ],
   "source": [
    "print(docs[0].page_content)"
   ]
  },
  {
   "cell_type": "code",
   "execution_count": 49,
   "id": "3b2db39e",
   "metadata": {},
   "outputs": [
    {
     "data": {
      "text/plain": [
       "[Document(metadata={'source': 'local_storage/extracts/extractedData.xlsx', 'file_directory': 'local_storage/extracts', 'filename': 'extractedData.xlsx', 'last_modified': '2025-08-21T21:27:22', 'page_name': 'Invoices', 'page_number': 1, 'text_as_html': '<table><tr><td>Is_Invoice</td><td>Invoice_Number</td><td>Invoice_Date</td><td>Net_SUM</td><td>Gross_SUM</td><td>VAT_Percentage</td><td>VAT_Amount</td><td>Invoice_Sender_Name</td><td>Invoice_Sender_Address</td><td>Invoice_Recipient_Name</td><td>Invoice_Recipient_Address</td><td>Invoice_Payment_Terms</td><td>Payment_Method</td><td>Category_Classification</td><td>Is_Subscription</td><td>START_Date</td><td>END_Date</td><td>Tips</td><td>Original_Filename</td><td>Upload_Timestamp</td><td>Handwritten_Comment</td><td>Model_Abouts</td></tr><tr><td>True</td><td>48877/50174П</td><td>20.02.2025</td><td>7.993,33</td><td>9.592,00</td><td>20.00%</td><td>1.598,67</td><td>Kockarium DOO</td><td>БУЛЕВАР ВУДРОА ВИЛСОНА 12 2 2 708, Београд-Савски Венац</td><td>Cash Customer</td><td>Unknown</td><td/><td>Cash</td><td>General Retail</td><td>False</td><td/><td/><td/><td>page.jpg</td><td>2025-07-24T02:44:44.150741</td><td/><td>{\"Input_Tokens\": \"1009\", \"Output_Tokens\": \"335\", \"Total_Tokens\": \"3141\", \"Local_Path\": \"local_storage/invoices/page.jpg\"}</td></tr><tr><td>True</td><td>82678/85328/1</td><td>20.02.2025</td><td>3341,67</td><td>4010,00</td><td>20.00%</td><td>668,33</td><td>TAMICO D.O.O.</td><td>KNEZ MIHAILOVA 54 BEOGRAD VRACAR</td><td>Cash Customer</td><td>Unknown</td><td/><td/><td>Food &amp; Beverage</td><td>False</td><td/><td/><td>490,00</td><td>PDOcpPHyFDd5UV_MnehD.jpg</td><td>2025-07-24T09:53:36.079064</td><td>Speisen und Getränke, =4500,= Porl.</td><td>{\"Input_Tokens\": \"1009\", \"Output_Tokens\": \"328\", \"Total_Tokens\": \"3658\", \"Local_Path\": \"local_storage/invoices/PDOcpPHyFDd5UV_MnehD.jpg\"}</td></tr><tr><td>True</td><td>000014</td><td>16-06-2025</td><td>476,18</td><td>500,00</td><td>5.00%</td><td>23,82</td><td>HOTEL NEW SUNSHINE</td><td>B5/49 SHIVALA VARANASI</td><td>Cash Customer</td><td>Unknown</td><td/><td>Cash</td><td>Food &amp; Beverage</td><td>False</td><td/><td/><td>0,00</td><td>M660a0hcp3cbVH4d7r31.jpg</td><td>2025-08-01T15:36:02.899598</td><td/><td>{\"Input_Tokens\": \"1009\", \"Output_Tokens\": \"295\", \"Total_Tokens\": \"2628\", \"Local_Path\": \"local_storage/invoices/M660a0hcp3cbVH4d7r31.jpg\"}</td></tr><tr><td>True</td><td>TED8NRH9-TED8NRH9-5017448877/50174ПП</td><td>20.02.2025</td><td>7.993,33</td><td>9.592,00</td><td>20.00%</td><td>1.598,67</td><td>Kockarium DOO</td><td>БУЛЕВАР ВУДРОА ВИЛСОНА 12 2 Београд-Савски Венац</td><td>Cash Customer</td><td>Unknown</td><td/><td>Cash</td><td>Toys &amp; Games</td><td>False</td><td/><td/><td/><td>SOrc8wWaiicUWUFhEtjd.jpg</td><td>2025-08-01T16:29:23.232707</td><td/><td>{\"Input_Tokens\": \"1009\", \"Output_Tokens\": \"347\", \"Total_Tokens\": \"3020\", \"Local_Path\": \"local_storage/invoices/SOrc8wWaiicUWUFhEtjd_1.jpg\"}</td></tr><tr><td>True</td><td>ТE1D8NRH9-TE1D8NRH9-50174 48877/50174ПП</td><td>20.02.2025</td><td>7993,33</td><td>9592,00</td><td>20.00%</td><td>1598,67</td><td>Kockarium DOO</td><td>БУЛЕВАР ВУДРОА ВИЛСОНА 12 2</td><td>Cash Customer</td><td>Unknown</td><td/><td>Cash</td><td>General Merchandise</td><td>False</td><td/><td/><td>0,00</td><td>-ocfyLpEX9QM9xQ2q2pv.jpg</td><td>2025-08-21T18:30:37.902519</td><td/><td>{\"Input_Tokens\": \"1009\", \"Output_Tokens\": \"339\", \"Total_Tokens\": \"3468\", \"Local_Path\": \"local_storage/invoices/-ocfyLpEX9QM9xQ2q2pv.jpg\"}</td></tr><tr><td>True</td><td>DTAM/1060/18-19</td><td>30-Mar-2019</td><td>55084,75</td><td>65000,00</td><td>18.00%</td><td>9915,25</td><td>DELL EXCLUSIVE STORE</td><td>No.68, GST ROAD, OPP RAMA ANJANEYAR TEMPLE, TAMBARAM SANATORUIM, CHENNAI - 47</td><td>A.J.D. NANTHAKUMAR</td><td>FLAT NO.1B, BLOCK NO.5, NATWEST AURA APARTMENTS, REVATHIPURAM, URAPAKKAM, CHENNAI, TamilNadu,603210</td><td/><td>CARD</td><td>Electronics</td><td>False</td><td/><td/><td/><td>bvF7mUzsV2UxnvDLXbIc.jpg</td><td>2025-08-21T21:26:42.333290</td><td>ajdnanthku</td><td>{\"Input_Tokens\": \"1009\", \"Output_Tokens\": \"379\", \"Total_Tokens\": \"3720\", \"Local_Path\": \"local_storage/invoices/bvF7mUzsV2UxnvDLXbIc_5.jpg\"}</td></tr><tr><td>True</td><td>48877/50174ПП</td><td>20.02.2025</td><td>7.993,33</td><td>9.592,00</td><td>20.00%</td><td>1.598,67</td><td>Kockarium DOO</td><td>БУЛЕВАР ВУДРОА ВИЛСОНА 12 2 2 708 Београд-Савски Венац</td><td>Cash Customer</td><td>Unknown</td><td/><td>Cash</td><td>Toys &amp; Hobbies</td><td>False</td><td/><td/><td>0,00</td><td>8uS5tAIu6-gTaraCfRbI.jpg</td><td>2025-08-21T21:27:22.029340</td><td/><td>{\"Input_Tokens\": \"1009\", \"Output_Tokens\": \"338\", \"Total_Tokens\": \"3363\", \"Local_Path\": \"local_storage/invoices/8uS5tAIu6-gTaraCfRbI_2.jpg\"}</td></tr></table>', 'languages': ['eng'], 'filetype': 'application/vnd.openxmlformats-officedocument.spreadsheetml.sheet', 'category': 'Table', 'element_id': 'e90ab6898e19fa527317dfd0d8849510'}, page_content='Is_Invoice Invoice_Number Invoice_Date Net_SUM Gross_SUM VAT_Percentage VAT_Amount Invoice_Sender_Name Invoice_Sender_Address Invoice_Recipient_Name Invoice_Recipient_Address Invoice_Payment_Terms Payment_Method Category_Classification Is_Subscription START_Date END_Date Tips Original_Filename Upload_Timestamp Handwritten_Comment Model_Abouts True 48877/50174П 20.02.2025 7.993,33 9.592,00 20.00% 1.598,67 Kockarium DOO БУЛЕВАР ВУДРОА ВИЛСОНА 12 2 2 708, Београд-Савски Венац Cash Customer Unknown Cash General Retail False page.jpg 2025-07-24T02:44:44.150741 {\"Input_Tokens\": \"1009\", \"Output_Tokens\": \"335\", \"Total_Tokens\": \"3141\", \"Local_Path\": \"local_storage/invoices/page.jpg\"} True 82678/85328/1 20.02.2025 3341,67 4010,00 20.00% 668,33 TAMICO D.O.O. KNEZ MIHAILOVA 54 BEOGRAD VRACAR Cash Customer Unknown Food & Beverage False 490,00 PDOcpPHyFDd5UV_MnehD.jpg 2025-07-24T09:53:36.079064 Speisen und Getränke, =4500,= Porl. {\"Input_Tokens\": \"1009\", \"Output_Tokens\": \"328\", \"Total_Tokens\": \"3658\", \"Local_Path\": \"local_storage/invoices/PDOcpPHyFDd5UV_MnehD.jpg\"} True 000014 16-06-2025 476,18 500,00 5.00% 23,82 HOTEL NEW SUNSHINE B5/49 SHIVALA VARANASI Cash Customer Unknown Cash Food & Beverage False 0,00 M660a0hcp3cbVH4d7r31.jpg 2025-08-01T15:36:02.899598 {\"Input_Tokens\": \"1009\", \"Output_Tokens\": \"295\", \"Total_Tokens\": \"2628\", \"Local_Path\": \"local_storage/invoices/M660a0hcp3cbVH4d7r31.jpg\"} True TED8NRH9-TED8NRH9-5017448877/50174ПП 20.02.2025 7.993,33 9.592,00 20.00% 1.598,67 Kockarium DOO БУЛЕВАР ВУДРОА ВИЛСОНА 12 2 Београд-Савски Венац Cash Customer Unknown Cash Toys & Games False SOrc8wWaiicUWUFhEtjd.jpg 2025-08-01T16:29:23.232707 {\"Input_Tokens\": \"1009\", \"Output_Tokens\": \"347\", \"Total_Tokens\": \"3020\", \"Local_Path\": \"local_storage/invoices/SOrc8wWaiicUWUFhEtjd_1.jpg\"} True ТE1D8NRH9-TE1D8NRH9-50174 48877/50174ПП 20.02.2025 7993,33 9592,00 20.00% 1598,67 Kockarium DOO БУЛЕВАР ВУДРОА ВИЛСОНА 12 2 Cash Customer Unknown Cash General Merchandise False 0,00 -ocfyLpEX9QM9xQ2q2pv.jpg 2025-08-21T18:30:37.902519 {\"Input_Tokens\": \"1009\", \"Output_Tokens\": \"339\", \"Total_Tokens\": \"3468\", \"Local_Path\": \"local_storage/invoices/-ocfyLpEX9QM9xQ2q2pv.jpg\"} True DTAM/1060/18-19 30-Mar-2019 55084,75 65000,00 18.00% 9915,25 DELL EXCLUSIVE STORE No.68, GST ROAD, OPP RAMA ANJANEYAR TEMPLE, TAMBARAM SANATORUIM, CHENNAI - 47 A.J.D. NANTHAKUMAR FLAT NO.1B, BLOCK NO.5, NATWEST AURA APARTMENTS, REVATHIPURAM, URAPAKKAM, CHENNAI, TamilNadu,603210 CARD Electronics False bvF7mUzsV2UxnvDLXbIc.jpg 2025-08-21T21:26:42.333290 ajdnanthku {\"Input_Tokens\": \"1009\", \"Output_Tokens\": \"379\", \"Total_Tokens\": \"3720\", \"Local_Path\": \"local_storage/invoices/bvF7mUzsV2UxnvDLXbIc_5.jpg\"} True 48877/50174ПП 20.02.2025 7.993,33 9.592,00 20.00% 1.598,67 Kockarium DOO БУЛЕВАР ВУДРОА ВИЛСОНА 12 2 2 708 Београд-Савски Венац Cash Customer Unknown Cash Toys & Hobbies False 0,00 8uS5tAIu6-gTaraCfRbI.jpg 2025-08-21T21:27:22.029340 {\"Input_Tokens\": \"1009\", \"Output_Tokens\": \"338\", \"Total_Tokens\": \"3363\", \"Local_Path\": \"local_storage/invoices/8uS5tAIu6-gTaraCfRbI_2.jpg\"}'),\n",
       " Document(metadata={'source': 'local_storage/extracts/extractedData.xlsx', 'file_directory': 'local_storage/extracts', 'filename': 'extractedData.xlsx', 'last_modified': '2025-08-21T21:27:22', 'page_name': 'Metadata', 'page_number': 2, 'text_as_html': '<table><tr><td>Last_Updated</td><td>Total_Records</td><td>Columns</td><td>New_Records_Added</td></tr><tr><td>2025-08-21T21:27:22.127456</td><td>7</td><td>Is_Invoice, Invoice_Number, Invoice_Date, Net_SUM, Gross_SUM, VAT_Percentage, VAT_Amount, Invoice_Sender_Name, Invoice_Sender_Address, Invoice_Recipient_Name, Invoice_Recipient_Address, Invoice_Payment_Terms, Payment_Method, Category_Classification, Is_Subscription, START_Date, END_Date, Tips, Original_Filename, Upload_Timestamp, Handwritten_Comment, Model_Abouts</td><td>1</td></tr></table>', 'languages': ['eng'], 'filetype': 'application/vnd.openxmlformats-officedocument.spreadsheetml.sheet', 'category': 'Table', 'element_id': '9eba3d3ef3d129db911aba9e136c7b33'}, page_content='Last_Updated Total_Records Columns New_Records_Added 2025-08-21T21:27:22.127456 7 Is_Invoice, Invoice_Number, Invoice_Date, Net_SUM, Gross_SUM, VAT_Percentage, VAT_Amount, Invoice_Sender_Name, Invoice_Sender_Address, Invoice_Recipient_Name, Invoice_Recipient_Address, Invoice_Payment_Terms, Payment_Method, Category_Classification, Is_Subscription, START_Date, END_Date, Tips, Original_Filename, Upload_Timestamp, Handwritten_Comment, Model_Abouts 1')]"
      ]
     },
     "execution_count": 49,
     "metadata": {},
     "output_type": "execute_result"
    }
   ],
   "source": [
    "docs"
   ]
  },
  {
   "cell_type": "code",
   "execution_count": null,
   "id": "55a23bd0",
   "metadata": {},
   "outputs": [],
   "source": [
    "import pandas as pd\n",
    "from langchain.vectorstores import Chroma\n",
    "from langchain_huggingface import HuggingFaceEmbeddings\n",
    "from langchain.docstore.document import Document\n",
    "from langchain.embeddings import FastEmbedEmbeddings\n",
    "from langchain.chains import RetrievalQA\n",
    "from langchain_openai import ChatOpenAI"
   ]
  },
  {
   "cell_type": "code",
   "execution_count": null,
   "id": "03060580",
   "metadata": {},
   "outputs": [],
   "source": [
    "!pip install chromadb"
   ]
  },
  {
   "cell_type": "code",
   "execution_count": null,
   "id": "bff6d47d",
   "metadata": {},
   "outputs": [],
   "source": [
    "# Step 1: Load Excel into DataFrame (cleaner than UnstructuredExcelLoader)\n",
    "df = pd.read_excel(\"local_storage/extracts/extractedData.xlsx\")\n",
    "\n",
    "# Step 2: Convert each row to Markdown\n",
    "markdown_rows = []\n",
    "for _, row in df.iterrows():\n",
    "    row_markdown = f\"\"\"\n",
    "    ### Invoice Record\n",
    "    - **Invoice Number:** {row['Invoice_Number']}\n",
    "    - **Invoice Date:** {row['Invoice_Date']}\n",
    "    - **Net SUM:** {row['Net_SUM']}\n",
    "    - **Gross SUM:** {row['Gross_SUM']}\n",
    "    - **VAT %:** {row['VAT_Percentage']}\n",
    "    - **VAT Amount:** {row['VAT_Amount']}\n",
    "    - **Sender:** {row['Invoice_Sender_Name']}\n",
    "    - **Sender Address:** {row['Invoice_Sender_Address']}\n",
    "    - **Recipient:** {row['Invoice_Recipient_Name']}\n",
    "    - **Recipient Address:** {row['Invoice_Recipient_Address']}\n",
    "    - **Payment Terms:** {row['Invoice_Payment_Terms']}\n",
    "    - **Payment Method:** {row['Payment_Method']}\n",
    "    - **Category:** {row['Category_Classification']}\n",
    "    - **Is Subscription:** {row['Is_Subscription']}\n",
    "    - **Start Date:** {row['START_Date']}\n",
    "    - **End Date:** {row['END_Date']}\n",
    "    - **Tips:** {row['Tips']}\n",
    "    - **Original Filename:** {row['Original_Filename']}\n",
    "    - **Upload Timestamp:** {row['Upload_Timestamp']}\n",
    "    - **Handwritten Comment:** {row['Handwritten_Comment']}\n",
    "    - **Model About:** {row['Model_Abouts']}\n",
    "    \"\"\"\n",
    "    markdown_rows.append(row_markdown.strip())"
   ]
  },
  {
   "cell_type": "code",
   "execution_count": 21,
   "id": "e977f143",
   "metadata": {},
   "outputs": [
    {
     "data": {
      "text/plain": [
       "['### Invoice Record\\n    - **Invoice Number:** 48877/50174П\\n    - **Invoice Date:** 20.02.2025\\n    - **Net SUM:** 7.993,33\\n    - **Gross SUM:** 9.592,00\\n    - **VAT %:** 20.00%\\n    - **VAT Amount:** 1.598,67\\n    - **Sender:** Kockarium DOO\\n    - **Sender Address:** БУЛЕВАР ВУДРОА ВИЛСОНА 12 2 2 708, Београд-Савски Венац\\n    - **Recipient:** Cash Customer\\n    - **Recipient Address:** Unknown\\n    - **Payment Terms:** nan\\n    - **Payment Method:** Cash\\n    - **Category:** General Retail\\n    - **Is Subscription:** False\\n    - **Start Date:** nan\\n    - **End Date:** nan\\n    - **Tips:** nan\\n    - **Original Filename:** page.jpg\\n    - **Upload Timestamp:** 2025-07-24T02:44:44.150741\\n    - **Handwritten Comment:** nan\\n    - **Model About:** {\"Input_Tokens\": \"1009\", \"Output_Tokens\": \"335\", \"Total_Tokens\": \"3141\", \"Local_Path\": \"local_storage/invoices/page.jpg\"}',\n",
       " '### Invoice Record\\n    - **Invoice Number:** 82678/85328/1\\n    - **Invoice Date:** 20.02.2025\\n    - **Net SUM:** 3341,67\\n    - **Gross SUM:** 4010,00\\n    - **VAT %:** 20.00%\\n    - **VAT Amount:** 668,33\\n    - **Sender:** TAMICO D.O.O.\\n    - **Sender Address:** KNEZ MIHAILOVA 54 BEOGRAD VRACAR\\n    - **Recipient:** Cash Customer\\n    - **Recipient Address:** Unknown\\n    - **Payment Terms:** nan\\n    - **Payment Method:** nan\\n    - **Category:** Food & Beverage\\n    - **Is Subscription:** False\\n    - **Start Date:** nan\\n    - **End Date:** nan\\n    - **Tips:** 490,00\\n    - **Original Filename:** PDOcpPHyFDd5UV_MnehD.jpg\\n    - **Upload Timestamp:** 2025-07-24T09:53:36.079064\\n    - **Handwritten Comment:** Speisen und Getränke, =4500,= Porl.\\n    - **Model About:** {\"Input_Tokens\": \"1009\", \"Output_Tokens\": \"328\", \"Total_Tokens\": \"3658\", \"Local_Path\": \"local_storage/invoices/PDOcpPHyFDd5UV_MnehD.jpg\"}',\n",
       " '### Invoice Record\\n    - **Invoice Number:** 000014\\n    - **Invoice Date:** 16-06-2025\\n    - **Net SUM:** 476,18\\n    - **Gross SUM:** 500,00\\n    - **VAT %:** 5.00%\\n    - **VAT Amount:** 23,82\\n    - **Sender:** HOTEL NEW SUNSHINE\\n    - **Sender Address:** B5/49 SHIVALA VARANASI\\n    - **Recipient:** Cash Customer\\n    - **Recipient Address:** Unknown\\n    - **Payment Terms:** nan\\n    - **Payment Method:** Cash\\n    - **Category:** Food & Beverage\\n    - **Is Subscription:** False\\n    - **Start Date:** nan\\n    - **End Date:** nan\\n    - **Tips:** 0,00\\n    - **Original Filename:** M660a0hcp3cbVH4d7r31.jpg\\n    - **Upload Timestamp:** 2025-08-01T15:36:02.899598\\n    - **Handwritten Comment:** nan\\n    - **Model About:** {\"Input_Tokens\": \"1009\", \"Output_Tokens\": \"295\", \"Total_Tokens\": \"2628\", \"Local_Path\": \"local_storage/invoices/M660a0hcp3cbVH4d7r31.jpg\"}',\n",
       " '### Invoice Record\\n    - **Invoice Number:** TED8NRH9-TED8NRH9-5017448877/50174ПП\\n    - **Invoice Date:** 20.02.2025\\n    - **Net SUM:** 7.993,33\\n    - **Gross SUM:** 9.592,00\\n    - **VAT %:** 20.00%\\n    - **VAT Amount:** 1.598,67\\n    - **Sender:** Kockarium DOO\\n    - **Sender Address:** БУЛЕВАР ВУДРОА ВИЛСОНА 12 2 Београд-Савски Венац\\n    - **Recipient:** Cash Customer\\n    - **Recipient Address:** Unknown\\n    - **Payment Terms:** nan\\n    - **Payment Method:** Cash\\n    - **Category:** Toys & Games\\n    - **Is Subscription:** False\\n    - **Start Date:** nan\\n    - **End Date:** nan\\n    - **Tips:** nan\\n    - **Original Filename:** SOrc8wWaiicUWUFhEtjd.jpg\\n    - **Upload Timestamp:** 2025-08-01T16:29:23.232707\\n    - **Handwritten Comment:** nan\\n    - **Model About:** {\"Input_Tokens\": \"1009\", \"Output_Tokens\": \"347\", \"Total_Tokens\": \"3020\", \"Local_Path\": \"local_storage/invoices/SOrc8wWaiicUWUFhEtjd_1.jpg\"}',\n",
       " '### Invoice Record\\n    - **Invoice Number:** ТE1D8NRH9-TE1D8NRH9-50174 48877/50174ПП\\n    - **Invoice Date:** 20.02.2025\\n    - **Net SUM:** 7993,33\\n    - **Gross SUM:** 9592,00\\n    - **VAT %:** 20.00%\\n    - **VAT Amount:** 1598,67\\n    - **Sender:** Kockarium DOO\\n    - **Sender Address:** БУЛЕВАР ВУДРОА ВИЛСОНА 12 2\\n    - **Recipient:** Cash Customer\\n    - **Recipient Address:** Unknown\\n    - **Payment Terms:** nan\\n    - **Payment Method:** Cash\\n    - **Category:** General Merchandise\\n    - **Is Subscription:** False\\n    - **Start Date:** nan\\n    - **End Date:** nan\\n    - **Tips:** 0,00\\n    - **Original Filename:** -ocfyLpEX9QM9xQ2q2pv.jpg\\n    - **Upload Timestamp:** 2025-08-21T18:30:37.902519\\n    - **Handwritten Comment:** nan\\n    - **Model About:** {\"Input_Tokens\": \"1009\", \"Output_Tokens\": \"339\", \"Total_Tokens\": \"3468\", \"Local_Path\": \"local_storage/invoices/-ocfyLpEX9QM9xQ2q2pv.jpg\"}',\n",
       " '### Invoice Record\\n    - **Invoice Number:** DTAM/1060/18-19\\n    - **Invoice Date:** 30-Mar-2019\\n    - **Net SUM:** 55084,75\\n    - **Gross SUM:** 65000,00\\n    - **VAT %:** 18.00%\\n    - **VAT Amount:** 9915,25\\n    - **Sender:** DELL EXCLUSIVE STORE\\n    - **Sender Address:** No.68, GST ROAD, OPP RAMA ANJANEYAR TEMPLE, TAMBARAM SANATORUIM, CHENNAI - 47\\n    - **Recipient:** A.J.D. NANTHAKUMAR\\n    - **Recipient Address:** FLAT NO.1B, BLOCK NO.5, NATWEST AURA APARTMENTS, REVATHIPURAM, URAPAKKAM, CHENNAI, TamilNadu,603210\\n    - **Payment Terms:** nan\\n    - **Payment Method:** CARD\\n    - **Category:** Electronics\\n    - **Is Subscription:** False\\n    - **Start Date:** nan\\n    - **End Date:** nan\\n    - **Tips:** nan\\n    - **Original Filename:** bvF7mUzsV2UxnvDLXbIc.jpg\\n    - **Upload Timestamp:** 2025-08-21T21:26:42.333290\\n    - **Handwritten Comment:** ajdnanthku\\n    - **Model About:** {\"Input_Tokens\": \"1009\", \"Output_Tokens\": \"379\", \"Total_Tokens\": \"3720\", \"Local_Path\": \"local_storage/invoices/bvF7mUzsV2UxnvDLXbIc_5.jpg\"}',\n",
       " '### Invoice Record\\n    - **Invoice Number:** 48877/50174ПП\\n    - **Invoice Date:** 20.02.2025\\n    - **Net SUM:** 7.993,33\\n    - **Gross SUM:** 9.592,00\\n    - **VAT %:** 20.00%\\n    - **VAT Amount:** 1.598,67\\n    - **Sender:** Kockarium DOO\\n    - **Sender Address:** БУЛЕВАР ВУДРОА ВИЛСОНА 12 2 2 708 Београд-Савски Венац\\n    - **Recipient:** Cash Customer\\n    - **Recipient Address:** Unknown\\n    - **Payment Terms:** nan\\n    - **Payment Method:** Cash\\n    - **Category:** Toys & Hobbies\\n    - **Is Subscription:** False\\n    - **Start Date:** nan\\n    - **End Date:** nan\\n    - **Tips:** 0,00\\n    - **Original Filename:** 8uS5tAIu6-gTaraCfRbI.jpg\\n    - **Upload Timestamp:** 2025-08-21T21:27:22.029340\\n    - **Handwritten Comment:** nan\\n    - **Model About:** {\"Input_Tokens\": \"1009\", \"Output_Tokens\": \"338\", \"Total_Tokens\": \"3363\", \"Local_Path\": \"local_storage/invoices/8uS5tAIu6-gTaraCfRbI_2.jpg\"}']"
      ]
     },
     "execution_count": 21,
     "metadata": {},
     "output_type": "execute_result"
    }
   ],
   "source": [
    "markdown_rows"
   ]
  },
  {
   "cell_type": "code",
   "execution_count": 31,
   "id": "efbb7a22",
   "metadata": {},
   "outputs": [
    {
     "name": "stderr",
     "output_type": "stream",
     "text": [
      "C:\\Users\\Sunho&Sanchita\\AppData\\Local\\Temp\\ipykernel_22872\\3316254210.py:8: LangChainDeprecationWarning: The class `Chroma` was deprecated in LangChain 0.2.9 and will be removed in 1.0. An updated version of the class exists in the :class:`~langchain-chroma package and should be used instead. To use it run `pip install -U :class:`~langchain-chroma` and import as `from :class:`~langchain_chroma import Chroma``.\n",
      "  db = Chroma(\n"
     ]
    },
    {
     "ename": "TypeError",
     "evalue": "Chroma.__init__() got multiple values for argument 'collection_name'",
     "output_type": "error",
     "traceback": [
      "\u001b[31m---------------------------------------------------------------------------\u001b[39m",
      "\u001b[31mTypeError\u001b[39m                                 Traceback (most recent call last)",
      "\u001b[36mCell\u001b[39m\u001b[36m \u001b[39m\u001b[32mIn[31]\u001b[39m\u001b[32m, line 8\u001b[39m\n\u001b[32m      6\u001b[39m \u001b[38;5;66;03m# Step 4: Use MiniLM embeddings\u001b[39;00m\n\u001b[32m      7\u001b[39m embedding = FastEmbedEmbeddings()\n\u001b[32m----> \u001b[39m\u001b[32m8\u001b[39m db = \u001b[43mChroma\u001b[49m\u001b[43m(\u001b[49m\n\u001b[32m      9\u001b[39m \u001b[43m    \u001b[49m\u001b[43mdocs\u001b[49m\u001b[43m,\u001b[49m\n\u001b[32m     10\u001b[39m \u001b[43m    \u001b[49m\u001b[43membedding_function\u001b[49m\u001b[43m=\u001b[49m\u001b[43membedding\u001b[49m\u001b[43m,\u001b[49m\n\u001b[32m     11\u001b[39m \u001b[43m    \u001b[49m\u001b[43mcollection_name\u001b[49m\u001b[43m=\u001b[49m\u001b[33;43m\"\u001b[39;49m\u001b[33;43minvoices\u001b[39;49m\u001b[33;43m\"\u001b[39;49m\u001b[43m,\u001b[49m\n\u001b[32m     12\u001b[39m \u001b[43m    \u001b[49m\u001b[43mpersist_directory\u001b[49m\u001b[43m=\u001b[49m\u001b[33;43m\"\u001b[39;49m\u001b[33;43mchroma_store\u001b[39;49m\u001b[33;43m\"\u001b[39;49m\n\u001b[32m     13\u001b[39m \u001b[43m)\u001b[49m\n\u001b[32m     15\u001b[39m retriever = db.as_retriever(search_kwargs={\u001b[33m\"\u001b[39m\u001b[33mk\u001b[39m\u001b[33m\"\u001b[39m: \u001b[32m5\u001b[39m})\n",
      "\u001b[36mFile \u001b[39m\u001b[32mc:\\Users\\Sunho&Sanchita\\Desktop\\Bill-Extractor-Agent\\venv\\Lib\\site-packages\\langchain_core\\_api\\deprecation.py:222\u001b[39m, in \u001b[36mdeprecated.<locals>.deprecate.<locals>.finalize.<locals>.warn_if_direct_instance\u001b[39m\u001b[34m(self, *args, **kwargs)\u001b[39m\n\u001b[32m    220\u001b[39m     warned = \u001b[38;5;28;01mTrue\u001b[39;00m\n\u001b[32m    221\u001b[39m     emit_warning()\n\u001b[32m--> \u001b[39m\u001b[32m222\u001b[39m \u001b[38;5;28;01mreturn\u001b[39;00m \u001b[43mwrapped\u001b[49m\u001b[43m(\u001b[49m\u001b[38;5;28;43mself\u001b[39;49m\u001b[43m,\u001b[49m\u001b[43m \u001b[49m\u001b[43m*\u001b[49m\u001b[43margs\u001b[49m\u001b[43m,\u001b[49m\u001b[43m \u001b[49m\u001b[43m*\u001b[49m\u001b[43m*\u001b[49m\u001b[43mkwargs\u001b[49m\u001b[43m)\u001b[49m\n",
      "\u001b[31mTypeError\u001b[39m: Chroma.__init__() got multiple values for argument 'collection_name'"
     ]
    }
   ],
   "source": [
    "docs = [\n",
    "    Document(page_content=row, metadata={\"source\": \"extractedData.xlsx\"})\n",
    "    for row in markdown_rows\n",
    "]\n",
    "\n",
    "# Step 4: Use MiniLM embeddings\n",
    "embedding = FastEmbedEmbeddings()\n",
    "db = Chroma(\n",
    "    docs,\n",
    "    embedding_function=embedding,\n",
    "    collection_name=\"invoices\",\n",
    "    persist_directory=\"chroma_store\"\n",
    ")\n",
    "\n",
    "retriever = db.as_retriever(search_kwargs={\"k\": 5})"
   ]
  },
  {
   "cell_type": "code",
   "execution_count": 9,
   "id": "b1c08e75",
   "metadata": {},
   "outputs": [
    {
     "name": "stdout",
     "output_type": "stream",
     "text": [
      "Collecting chromadb\n",
      "  Downloading chromadb-1.0.20-cp39-abi3-win_amd64.whl.metadata (7.4 kB)\n",
      "Collecting build>=1.0.3 (from chromadb)\n",
      "  Downloading build-1.3.0-py3-none-any.whl.metadata (5.6 kB)\n",
      "Requirement already satisfied: pydantic>=1.9 in c:\\users\\sunho&sanchita\\desktop\\bill-extractor-agent\\venv\\lib\\site-packages (from chromadb) (2.11.7)\n",
      "Collecting pybase64>=1.4.1 (from chromadb)\n",
      "  Downloading pybase64-1.4.2-cp313-cp313-win_amd64.whl.metadata (9.0 kB)\n",
      "Collecting uvicorn>=0.18.3 (from uvicorn[standard]>=0.18.3->chromadb)\n",
      "  Downloading uvicorn-0.35.0-py3-none-any.whl.metadata (6.5 kB)\n",
      "Requirement already satisfied: numpy>=1.22.5 in c:\\users\\sunho&sanchita\\desktop\\bill-extractor-agent\\venv\\lib\\site-packages (from chromadb) (2.3.2)\n",
      "Collecting posthog<6.0.0,>=2.4.0 (from chromadb)\n",
      "  Downloading posthog-5.4.0-py3-none-any.whl.metadata (5.7 kB)\n",
      "Requirement already satisfied: typing-extensions>=4.5.0 in c:\\users\\sunho&sanchita\\desktop\\bill-extractor-agent\\venv\\lib\\site-packages (from chromadb) (4.14.1)\n",
      "Collecting onnxruntime>=1.14.1 (from chromadb)\n",
      "  Downloading onnxruntime-1.22.1-cp313-cp313-win_amd64.whl.metadata (5.1 kB)\n",
      "Collecting opentelemetry-api>=1.2.0 (from chromadb)\n",
      "  Downloading opentelemetry_api-1.36.0-py3-none-any.whl.metadata (1.5 kB)\n",
      "Collecting opentelemetry-exporter-otlp-proto-grpc>=1.2.0 (from chromadb)\n",
      "  Downloading opentelemetry_exporter_otlp_proto_grpc-1.36.0-py3-none-any.whl.metadata (2.4 kB)\n",
      "Collecting opentelemetry-sdk>=1.2.0 (from chromadb)\n",
      "  Downloading opentelemetry_sdk-1.36.0-py3-none-any.whl.metadata (1.5 kB)\n",
      "Requirement already satisfied: tokenizers>=0.13.2 in c:\\users\\sunho&sanchita\\desktop\\bill-extractor-agent\\venv\\lib\\site-packages (from chromadb) (0.21.4)\n",
      "Collecting pypika>=0.48.9 (from chromadb)\n",
      "  Downloading PyPika-0.48.9.tar.gz (67 kB)\n",
      "  Installing build dependencies: started\n",
      "  Installing build dependencies: finished with status 'done'\n",
      "  Getting requirements to build wheel: started\n",
      "  Getting requirements to build wheel: finished with status 'done'\n",
      "  Preparing metadata (pyproject.toml): started\n",
      "  Preparing metadata (pyproject.toml): finished with status 'done'\n",
      "Requirement already satisfied: tqdm>=4.65.0 in c:\\users\\sunho&sanchita\\desktop\\bill-extractor-agent\\venv\\lib\\site-packages (from chromadb) (4.67.1)\n",
      "Collecting overrides>=7.3.1 (from chromadb)\n",
      "  Downloading overrides-7.7.0-py3-none-any.whl.metadata (5.8 kB)\n",
      "Collecting importlib-resources (from chromadb)\n",
      "  Downloading importlib_resources-6.5.2-py3-none-any.whl.metadata (3.9 kB)\n",
      "Requirement already satisfied: grpcio>=1.58.0 in c:\\users\\sunho&sanchita\\desktop\\bill-extractor-agent\\venv\\lib\\site-packages (from chromadb) (1.74.0)\n",
      "Collecting bcrypt>=4.0.1 (from chromadb)\n",
      "  Using cached bcrypt-4.3.0-cp39-abi3-win_amd64.whl.metadata (10 kB)\n",
      "Collecting typer>=0.9.0 (from chromadb)\n",
      "  Downloading typer-0.16.1-py3-none-any.whl.metadata (15 kB)\n",
      "Collecting kubernetes>=28.1.0 (from chromadb)\n",
      "  Downloading kubernetes-33.1.0-py2.py3-none-any.whl.metadata (1.7 kB)\n",
      "Requirement already satisfied: tenacity>=8.2.3 in c:\\users\\sunho&sanchita\\desktop\\bill-extractor-agent\\venv\\lib\\site-packages (from chromadb) (9.1.2)\n",
      "Requirement already satisfied: pyyaml>=6.0.0 in c:\\users\\sunho&sanchita\\desktop\\bill-extractor-agent\\venv\\lib\\site-packages (from chromadb) (6.0.2)\n",
      "Collecting mmh3>=4.0.1 (from chromadb)\n",
      "  Downloading mmh3-5.2.0-cp313-cp313-win_amd64.whl.metadata (14 kB)\n",
      "Requirement already satisfied: orjson>=3.9.12 in c:\\users\\sunho&sanchita\\desktop\\bill-extractor-agent\\venv\\lib\\site-packages (from chromadb) (3.11.1)\n",
      "Requirement already satisfied: httpx>=0.27.0 in c:\\users\\sunho&sanchita\\desktop\\bill-extractor-agent\\venv\\lib\\site-packages (from chromadb) (0.28.1)\n",
      "Collecting rich>=10.11.0 (from chromadb)\n",
      "  Downloading rich-14.1.0-py3-none-any.whl.metadata (18 kB)\n",
      "Collecting jsonschema>=4.19.0 (from chromadb)\n",
      "  Downloading jsonschema-4.25.1-py3-none-any.whl.metadata (7.6 kB)\n",
      "Requirement already satisfied: packaging>=19.1 in c:\\users\\sunho&sanchita\\desktop\\bill-extractor-agent\\venv\\lib\\site-packages (from build>=1.0.3->chromadb) (25.0)\n",
      "Collecting pyproject_hooks (from build>=1.0.3->chromadb)\n",
      "  Downloading pyproject_hooks-1.2.0-py3-none-any.whl.metadata (1.3 kB)\n",
      "Requirement already satisfied: colorama in c:\\users\\sunho&sanchita\\desktop\\bill-extractor-agent\\venv\\lib\\site-packages (from build>=1.0.3->chromadb) (0.4.6)\n",
      "Requirement already satisfied: anyio in c:\\users\\sunho&sanchita\\desktop\\bill-extractor-agent\\venv\\lib\\site-packages (from httpx>=0.27.0->chromadb) (4.9.0)\n",
      "Requirement already satisfied: certifi in c:\\users\\sunho&sanchita\\desktop\\bill-extractor-agent\\venv\\lib\\site-packages (from httpx>=0.27.0->chromadb) (2025.7.14)\n",
      "Requirement already satisfied: httpcore==1.* in c:\\users\\sunho&sanchita\\desktop\\bill-extractor-agent\\venv\\lib\\site-packages (from httpx>=0.27.0->chromadb) (1.0.9)\n",
      "Requirement already satisfied: idna in c:\\users\\sunho&sanchita\\desktop\\bill-extractor-agent\\venv\\lib\\site-packages (from httpx>=0.27.0->chromadb) (3.10)\n",
      "Requirement already satisfied: h11>=0.16 in c:\\users\\sunho&sanchita\\desktop\\bill-extractor-agent\\venv\\lib\\site-packages (from httpcore==1.*->httpx>=0.27.0->chromadb) (0.16.0)\n",
      "Requirement already satisfied: attrs>=22.2.0 in c:\\users\\sunho&sanchita\\desktop\\bill-extractor-agent\\venv\\lib\\site-packages (from jsonschema>=4.19.0->chromadb) (25.3.0)\n",
      "Collecting jsonschema-specifications>=2023.03.6 (from jsonschema>=4.19.0->chromadb)\n",
      "  Using cached jsonschema_specifications-2025.4.1-py3-none-any.whl.metadata (2.9 kB)\n",
      "Collecting referencing>=0.28.4 (from jsonschema>=4.19.0->chromadb)\n",
      "  Using cached referencing-0.36.2-py3-none-any.whl.metadata (2.8 kB)\n",
      "Collecting rpds-py>=0.7.1 (from jsonschema>=4.19.0->chromadb)\n",
      "  Downloading rpds_py-0.27.0-cp313-cp313-win_amd64.whl.metadata (4.3 kB)\n",
      "Requirement already satisfied: six>=1.9.0 in c:\\users\\sunho&sanchita\\desktop\\bill-extractor-agent\\venv\\lib\\site-packages (from kubernetes>=28.1.0->chromadb) (1.17.0)\n",
      "Requirement already satisfied: python-dateutil>=2.5.3 in c:\\users\\sunho&sanchita\\desktop\\bill-extractor-agent\\venv\\lib\\site-packages (from kubernetes>=28.1.0->chromadb) (2.9.0.post0)\n",
      "Requirement already satisfied: google-auth>=1.0.1 in c:\\users\\sunho&sanchita\\desktop\\bill-extractor-agent\\venv\\lib\\site-packages (from kubernetes>=28.1.0->chromadb) (2.40.3)\n",
      "Collecting websocket-client!=0.40.0,!=0.41.*,!=0.42.*,>=0.32.0 (from kubernetes>=28.1.0->chromadb)\n",
      "  Using cached websocket_client-1.8.0-py3-none-any.whl.metadata (8.0 kB)\n",
      "Requirement already satisfied: requests in c:\\users\\sunho&sanchita\\desktop\\bill-extractor-agent\\venv\\lib\\site-packages (from kubernetes>=28.1.0->chromadb) (2.32.4)\n",
      "Collecting requests-oauthlib (from kubernetes>=28.1.0->chromadb)\n",
      "  Using cached requests_oauthlib-2.0.0-py2.py3-none-any.whl.metadata (11 kB)\n",
      "Collecting oauthlib>=3.2.2 (from kubernetes>=28.1.0->chromadb)\n",
      "  Using cached oauthlib-3.3.1-py3-none-any.whl.metadata (7.9 kB)\n",
      "Requirement already satisfied: urllib3>=1.24.2 in c:\\users\\sunho&sanchita\\desktop\\bill-extractor-agent\\venv\\lib\\site-packages (from kubernetes>=28.1.0->chromadb) (2.5.0)\n",
      "Collecting durationpy>=0.7 (from kubernetes>=28.1.0->chromadb)\n",
      "  Downloading durationpy-0.10-py3-none-any.whl.metadata (340 bytes)\n",
      "Collecting coloredlogs (from onnxruntime>=1.14.1->chromadb)\n",
      "  Using cached coloredlogs-15.0.1-py2.py3-none-any.whl.metadata (12 kB)\n",
      "Collecting flatbuffers (from onnxruntime>=1.14.1->chromadb)\n",
      "  Using cached flatbuffers-25.2.10-py2.py3-none-any.whl.metadata (875 bytes)\n",
      "Requirement already satisfied: protobuf in c:\\users\\sunho&sanchita\\desktop\\bill-extractor-agent\\venv\\lib\\site-packages (from onnxruntime>=1.14.1->chromadb) (6.31.1)\n",
      "Requirement already satisfied: sympy in c:\\users\\sunho&sanchita\\desktop\\bill-extractor-agent\\venv\\lib\\site-packages (from onnxruntime>=1.14.1->chromadb) (1.14.0)\n",
      "Collecting importlib-metadata<8.8.0,>=6.0 (from opentelemetry-api>=1.2.0->chromadb)\n",
      "  Using cached importlib_metadata-8.7.0-py3-none-any.whl.metadata (4.8 kB)\n",
      "Requirement already satisfied: googleapis-common-protos~=1.57 in c:\\users\\sunho&sanchita\\desktop\\bill-extractor-agent\\venv\\lib\\site-packages (from opentelemetry-exporter-otlp-proto-grpc>=1.2.0->chromadb) (1.70.0)\n",
      "Collecting opentelemetry-exporter-otlp-proto-common==1.36.0 (from opentelemetry-exporter-otlp-proto-grpc>=1.2.0->chromadb)\n",
      "  Downloading opentelemetry_exporter_otlp_proto_common-1.36.0-py3-none-any.whl.metadata (1.8 kB)\n",
      "Collecting opentelemetry-proto==1.36.0 (from opentelemetry-exporter-otlp-proto-grpc>=1.2.0->chromadb)\n",
      "  Downloading opentelemetry_proto-1.36.0-py3-none-any.whl.metadata (2.3 kB)\n",
      "Collecting opentelemetry-semantic-conventions==0.57b0 (from opentelemetry-sdk>=1.2.0->chromadb)\n",
      "  Downloading opentelemetry_semantic_conventions-0.57b0-py3-none-any.whl.metadata (2.4 kB)\n",
      "Requirement already satisfied: backoff>=1.10.0 in c:\\users\\sunho&sanchita\\desktop\\bill-extractor-agent\\venv\\lib\\site-packages (from posthog<6.0.0,>=2.4.0->chromadb) (2.2.1)\n",
      "Collecting distro>=1.5.0 (from posthog<6.0.0,>=2.4.0->chromadb)\n",
      "  Using cached distro-1.9.0-py3-none-any.whl.metadata (6.8 kB)\n",
      "Requirement already satisfied: annotated-types>=0.6.0 in c:\\users\\sunho&sanchita\\desktop\\bill-extractor-agent\\venv\\lib\\site-packages (from pydantic>=1.9->chromadb) (0.7.0)\n",
      "Requirement already satisfied: pydantic-core==2.33.2 in c:\\users\\sunho&sanchita\\desktop\\bill-extractor-agent\\venv\\lib\\site-packages (from pydantic>=1.9->chromadb) (2.33.2)\n",
      "Requirement already satisfied: typing-inspection>=0.4.0 in c:\\users\\sunho&sanchita\\desktop\\bill-extractor-agent\\venv\\lib\\site-packages (from pydantic>=1.9->chromadb) (0.4.1)\n",
      "Collecting markdown-it-py>=2.2.0 (from rich>=10.11.0->chromadb)\n",
      "  Downloading markdown_it_py-4.0.0-py3-none-any.whl.metadata (7.3 kB)\n",
      "Requirement already satisfied: pygments<3.0.0,>=2.13.0 in c:\\users\\sunho&sanchita\\desktop\\bill-extractor-agent\\venv\\lib\\site-packages (from rich>=10.11.0->chromadb) (2.19.2)\n",
      "Requirement already satisfied: huggingface-hub<1.0,>=0.16.4 in c:\\users\\sunho&sanchita\\desktop\\bill-extractor-agent\\venv\\lib\\site-packages (from tokenizers>=0.13.2->chromadb) (0.34.3)\n",
      "Requirement already satisfied: click>=8.0.0 in c:\\users\\sunho&sanchita\\desktop\\bill-extractor-agent\\venv\\lib\\site-packages (from typer>=0.9.0->chromadb) (8.2.1)\n",
      "Collecting shellingham>=1.3.0 (from typer>=0.9.0->chromadb)\n",
      "  Using cached shellingham-1.5.4-py2.py3-none-any.whl.metadata (3.5 kB)\n",
      "Collecting httptools>=0.6.3 (from uvicorn[standard]>=0.18.3->chromadb)\n",
      "  Downloading httptools-0.6.4-cp313-cp313-win_amd64.whl.metadata (3.7 kB)\n",
      "Requirement already satisfied: python-dotenv>=0.13 in c:\\users\\sunho&sanchita\\desktop\\bill-extractor-agent\\venv\\lib\\site-packages (from uvicorn[standard]>=0.18.3->chromadb) (1.1.1)\n",
      "Collecting watchfiles>=0.13 (from uvicorn[standard]>=0.18.3->chromadb)\n",
      "  Downloading watchfiles-1.1.0-cp313-cp313-win_amd64.whl.metadata (5.0 kB)\n",
      "Collecting websockets>=10.4 (from uvicorn[standard]>=0.18.3->chromadb)\n",
      "  Using cached websockets-15.0.1-cp313-cp313-win_amd64.whl.metadata (7.0 kB)\n",
      "Requirement already satisfied: cachetools<6.0,>=2.0.0 in c:\\users\\sunho&sanchita\\desktop\\bill-extractor-agent\\venv\\lib\\site-packages (from google-auth>=1.0.1->kubernetes>=28.1.0->chromadb) (5.5.2)\n",
      "Requirement already satisfied: pyasn1-modules>=0.2.1 in c:\\users\\sunho&sanchita\\desktop\\bill-extractor-agent\\venv\\lib\\site-packages (from google-auth>=1.0.1->kubernetes>=28.1.0->chromadb) (0.4.2)\n",
      "Requirement already satisfied: rsa<5,>=3.1.4 in c:\\users\\sunho&sanchita\\desktop\\bill-extractor-agent\\venv\\lib\\site-packages (from google-auth>=1.0.1->kubernetes>=28.1.0->chromadb) (4.9.1)\n",
      "Requirement already satisfied: filelock in c:\\users\\sunho&sanchita\\desktop\\bill-extractor-agent\\venv\\lib\\site-packages (from huggingface-hub<1.0,>=0.16.4->tokenizers>=0.13.2->chromadb) (3.18.0)\n",
      "Requirement already satisfied: fsspec>=2023.5.0 in c:\\users\\sunho&sanchita\\desktop\\bill-extractor-agent\\venv\\lib\\site-packages (from huggingface-hub<1.0,>=0.16.4->tokenizers>=0.13.2->chromadb) (2025.7.0)\n",
      "Collecting zipp>=3.20 (from importlib-metadata<8.8.0,>=6.0->opentelemetry-api>=1.2.0->chromadb)\n",
      "  Downloading zipp-3.23.0-py3-none-any.whl.metadata (3.6 kB)\n",
      "Collecting mdurl~=0.1 (from markdown-it-py>=2.2.0->rich>=10.11.0->chromadb)\n",
      "  Using cached mdurl-0.1.2-py3-none-any.whl.metadata (1.6 kB)\n",
      "Requirement already satisfied: charset_normalizer<4,>=2 in c:\\users\\sunho&sanchita\\desktop\\bill-extractor-agent\\venv\\lib\\site-packages (from requests->kubernetes>=28.1.0->chromadb) (3.4.2)\n",
      "Requirement already satisfied: sniffio>=1.1 in c:\\users\\sunho&sanchita\\desktop\\bill-extractor-agent\\venv\\lib\\site-packages (from anyio->httpx>=0.27.0->chromadb) (1.3.1)\n",
      "Collecting humanfriendly>=9.1 (from coloredlogs->onnxruntime>=1.14.1->chromadb)\n",
      "  Using cached humanfriendly-10.0-py2.py3-none-any.whl.metadata (9.2 kB)\n",
      "Requirement already satisfied: mpmath<1.4,>=1.1.0 in c:\\users\\sunho&sanchita\\desktop\\bill-extractor-agent\\venv\\lib\\site-packages (from sympy->onnxruntime>=1.14.1->chromadb) (1.3.0)\n",
      "Collecting pyreadline3 (from humanfriendly>=9.1->coloredlogs->onnxruntime>=1.14.1->chromadb)\n",
      "  Using cached pyreadline3-3.5.4-py3-none-any.whl.metadata (4.7 kB)\n",
      "Requirement already satisfied: pyasn1<0.7.0,>=0.6.1 in c:\\users\\sunho&sanchita\\desktop\\bill-extractor-agent\\venv\\lib\\site-packages (from pyasn1-modules>=0.2.1->google-auth>=1.0.1->kubernetes>=28.1.0->chromadb) (0.6.1)\n",
      "Downloading chromadb-1.0.20-cp39-abi3-win_amd64.whl (19.8 MB)\n",
      "   ---------------------------------------- 0.0/19.8 MB ? eta -:--:--\n",
      "   -- ------------------------------------- 1.3/19.8 MB 6.6 MB/s eta 0:00:03\n",
      "   ---- ----------------------------------- 2.4/19.8 MB 6.5 MB/s eta 0:00:03\n",
      "   ------- -------------------------------- 3.7/19.8 MB 5.8 MB/s eta 0:00:03\n",
      "   ------------ --------------------------- 6.3/19.8 MB 7.5 MB/s eta 0:00:02\n",
      "   ------------------ --------------------- 8.9/19.8 MB 8.3 MB/s eta 0:00:02\n",
      "   ---------------------- ----------------- 11.3/19.8 MB 8.8 MB/s eta 0:00:01\n",
      "   --------------------------- ------------ 13.6/19.8 MB 9.2 MB/s eta 0:00:01\n",
      "   -------------------------------- ------- 16.3/19.8 MB 9.5 MB/s eta 0:00:01\n",
      "   -------------------------------------- - 18.9/19.8 MB 9.8 MB/s eta 0:00:01\n",
      "   ---------------------------------------- 19.8/19.8 MB 9.5 MB/s eta 0:00:00\n",
      "Using cached bcrypt-4.3.0-cp39-abi3-win_amd64.whl (152 kB)\n",
      "Downloading build-1.3.0-py3-none-any.whl (23 kB)\n",
      "Downloading jsonschema-4.25.1-py3-none-any.whl (90 kB)\n",
      "Downloading kubernetes-33.1.0-py2.py3-none-any.whl (1.9 MB)\n",
      "   ---------------------------------------- 0.0/1.9 MB ? eta -:--:--\n",
      "   ------------------------------------- -- 1.8/1.9 MB 9.6 MB/s eta 0:00:01\n",
      "   ---------------------------------------- 1.9/1.9 MB 8.8 MB/s eta 0:00:00\n",
      "Downloading mmh3-5.2.0-cp313-cp313-win_amd64.whl (41 kB)\n",
      "Downloading onnxruntime-1.22.1-cp313-cp313-win_amd64.whl (12.7 MB)\n",
      "   ---------------------------------------- 0.0/12.7 MB ? eta -:--:--\n",
      "   ----- ---------------------------------- 1.8/12.7 MB 9.2 MB/s eta 0:00:02\n",
      "   ------------ --------------------------- 3.9/12.7 MB 9.5 MB/s eta 0:00:01\n",
      "   ------------------- -------------------- 6.0/12.7 MB 9.5 MB/s eta 0:00:01\n",
      "   -------------------------- ------------- 8.4/12.7 MB 9.8 MB/s eta 0:00:01\n",
      "   --------------------------------- ------ 10.7/12.7 MB 9.9 MB/s eta 0:00:01\n",
      "   ---------------------------------------  12.6/12.7 MB 9.6 MB/s eta 0:00:01\n",
      "   ---------------------------------------- 12.7/12.7 MB 9.1 MB/s eta 0:00:00\n",
      "Downloading opentelemetry_api-1.36.0-py3-none-any.whl (65 kB)\n",
      "Downloading opentelemetry_exporter_otlp_proto_grpc-1.36.0-py3-none-any.whl (18 kB)\n",
      "Downloading opentelemetry_exporter_otlp_proto_common-1.36.0-py3-none-any.whl (18 kB)\n",
      "Downloading opentelemetry_proto-1.36.0-py3-none-any.whl (72 kB)\n",
      "Downloading opentelemetry_sdk-1.36.0-py3-none-any.whl (119 kB)\n",
      "Downloading opentelemetry_semantic_conventions-0.57b0-py3-none-any.whl (201 kB)\n",
      "Downloading overrides-7.7.0-py3-none-any.whl (17 kB)\n",
      "Downloading posthog-5.4.0-py3-none-any.whl (105 kB)\n",
      "Downloading pybase64-1.4.2-cp313-cp313-win_amd64.whl (35 kB)\n",
      "Downloading rich-14.1.0-py3-none-any.whl (243 kB)\n",
      "Downloading typer-0.16.1-py3-none-any.whl (46 kB)\n",
      "Downloading uvicorn-0.35.0-py3-none-any.whl (66 kB)\n",
      "Downloading importlib_resources-6.5.2-py3-none-any.whl (37 kB)\n",
      "Using cached distro-1.9.0-py3-none-any.whl (20 kB)\n",
      "Downloading durationpy-0.10-py3-none-any.whl (3.9 kB)\n",
      "Downloading httptools-0.6.4-cp313-cp313-win_amd64.whl (87 kB)\n",
      "Using cached importlib_metadata-8.7.0-py3-none-any.whl (27 kB)\n",
      "Using cached jsonschema_specifications-2025.4.1-py3-none-any.whl (18 kB)\n",
      "Downloading markdown_it_py-4.0.0-py3-none-any.whl (87 kB)\n",
      "Using cached oauthlib-3.3.1-py3-none-any.whl (160 kB)\n",
      "Using cached referencing-0.36.2-py3-none-any.whl (26 kB)\n",
      "Downloading rpds_py-0.27.0-cp313-cp313-win_amd64.whl (232 kB)\n",
      "Using cached shellingham-1.5.4-py2.py3-none-any.whl (9.8 kB)\n",
      "Downloading watchfiles-1.1.0-cp313-cp313-win_amd64.whl (292 kB)\n",
      "Using cached websocket_client-1.8.0-py3-none-any.whl (58 kB)\n",
      "Using cached websockets-15.0.1-cp313-cp313-win_amd64.whl (176 kB)\n",
      "Using cached coloredlogs-15.0.1-py2.py3-none-any.whl (46 kB)\n",
      "Using cached flatbuffers-25.2.10-py2.py3-none-any.whl (30 kB)\n",
      "Downloading pyproject_hooks-1.2.0-py3-none-any.whl (10 kB)\n",
      "Using cached requests_oauthlib-2.0.0-py2.py3-none-any.whl (24 kB)\n",
      "Using cached humanfriendly-10.0-py2.py3-none-any.whl (86 kB)\n",
      "Using cached mdurl-0.1.2-py3-none-any.whl (10.0 kB)\n",
      "Downloading zipp-3.23.0-py3-none-any.whl (10 kB)\n",
      "Using cached pyreadline3-3.5.4-py3-none-any.whl (83 kB)\n",
      "Building wheels for collected packages: pypika\n",
      "  Building wheel for pypika (pyproject.toml): started\n",
      "  Building wheel for pypika (pyproject.toml): finished with status 'done'\n",
      "  Created wheel for pypika: filename=pypika-0.48.9-py2.py3-none-any.whl size=53916 sha256=e77f72e8ef9e7e3c160205bab7d019f23fc046b3b45b2c1a9fa95c81e0833e96\n",
      "  Stored in directory: c:\\users\\sunho&sanchita\\appdata\\local\\pip\\cache\\wheels\\b4\\f8\\a5\\28e9c1524d320f4b8eefdce0e487b5c2e128dbf2ed1bb4a60b\n",
      "Successfully built pypika\n",
      "Installing collected packages: pypika, flatbuffers, durationpy, zipp, websockets, websocket-client, shellingham, rpds-py, pyreadline3, pyproject_hooks, pybase64, overrides, opentelemetry-proto, oauthlib, mmh3, mdurl, importlib-resources, httptools, distro, bcrypt, watchfiles, uvicorn, requests-oauthlib, referencing, posthog, opentelemetry-exporter-otlp-proto-common, markdown-it-py, importlib-metadata, humanfriendly, build, rich, opentelemetry-api, kubernetes, jsonschema-specifications, coloredlogs, typer, opentelemetry-semantic-conventions, onnxruntime, jsonschema, opentelemetry-sdk, opentelemetry-exporter-otlp-proto-grpc, chromadb\n",
      "Successfully installed bcrypt-4.3.0 build-1.3.0 chromadb-1.0.20 coloredlogs-15.0.1 distro-1.9.0 durationpy-0.10 flatbuffers-25.2.10 httptools-0.6.4 humanfriendly-10.0 importlib-metadata-8.7.0 importlib-resources-6.5.2 jsonschema-4.25.1 jsonschema-specifications-2025.4.1 kubernetes-33.1.0 markdown-it-py-4.0.0 mdurl-0.1.2 mmh3-5.2.0 oauthlib-3.3.1 onnxruntime-1.22.1 opentelemetry-api-1.36.0 opentelemetry-exporter-otlp-proto-common-1.36.0 opentelemetry-exporter-otlp-proto-grpc-1.36.0 opentelemetry-proto-1.36.0 opentelemetry-sdk-1.36.0 opentelemetry-semantic-conventions-0.57b0 overrides-7.7.0 posthog-5.4.0 pybase64-1.4.2 pypika-0.48.9 pyproject_hooks-1.2.0 pyreadline3-3.5.4 referencing-0.36.2 requests-oauthlib-2.0.0 rich-14.1.0 rpds-py-0.27.0 shellingham-1.5.4 typer-0.16.1 uvicorn-0.35.0 watchfiles-1.1.0 websocket-client-1.8.0 websockets-15.0.1 zipp-3.23.0\n",
      "Note: you may need to restart the kernel to use updated packages.\n"
     ]
    },
    {
     "name": "stderr",
     "output_type": "stream",
     "text": [
      "\n",
      "[notice] A new release of pip is available: 24.3.1 -> 25.2\n",
      "[notice] To update, run: python.exe -m pip install --upgrade pip\n"
     ]
    }
   ],
   "source": [
    "%pip install chromadb"
   ]
  },
  {
   "cell_type": "code",
   "execution_count": 25,
   "id": "0f1b1e4e",
   "metadata": {},
   "outputs": [],
   "source": [
    "import os\n",
    "from dotenv import load_dotenv\n",
    "from langchain_openai import ChatOpenAI\n",
    "\n",
    "load_dotenv()\n",
    "\n",
    "GROQ_API_KEY = os.getenv(\"GROQ_API_KEY\")"
   ]
  },
  {
   "cell_type": "code",
   "execution_count": 26,
   "id": "44d1c421",
   "metadata": {},
   "outputs": [],
   "source": [
    "llm = ChatOpenAI( \n",
    "    model=\"llama3-70b-8192\",\n",
    "    temperature=0.2,\n",
    "    max_tokens=300,\n",
    "    top_p=0.9,\n",
    "    presence_penalty=0,\n",
    "    frequency_penalty=0,\n",
    "    openai_api_key=GROQ_API_KEY,  # <-- define this env var\n",
    "    openai_api_base=\"https://api.groq.com/openai/v1\"\n",
    ")"
   ]
  },
  {
   "cell_type": "code",
   "execution_count": 27,
   "id": "7a933f99",
   "metadata": {},
   "outputs": [],
   "source": [
    "qa = RetrievalQA.from_chain_type(\n",
    "    llm=llm,\n",
    "    retriever=retriever,\n",
    "    chain_type=\"stuff\",\n",
    "    return_source_documents=True\n",
    ")"
   ]
  },
  {
   "cell_type": "code",
   "execution_count": 28,
   "id": "0996583e",
   "metadata": {},
   "outputs": [
    {
     "name": "stderr",
     "output_type": "stream",
     "text": [
      "c:\\Users\\Sunho&Sanchita\\Desktop\\Bill-Extractor-Agent\\venv\\Lib\\site-packages\\torch\\nn\\modules\\module.py:1762: FutureWarning: `encoder_attention_mask` is deprecated and will be removed in version 4.55.0 for `BertSdpaSelfAttention.forward`.\n",
      "  return forward_call(*args, **kwargs)\n"
     ]
    }
   ],
   "source": [
    "response = qa.invoke({\"query\": \"Which invoices have VAT 5%?\"})"
   ]
  },
  {
   "cell_type": "code",
   "execution_count": 29,
   "id": "6430399e",
   "metadata": {},
   "outputs": [
    {
     "name": "stdout",
     "output_type": "stream",
     "text": [
      "None of the invoices have VAT 5%. All of the invoices have VAT 20.00%.\n",
      "Sources: [{'source': 'extractedData.xlsx'}, {'source': 'extractedData.xlsx'}, {'source': 'extractedData.xlsx'}]\n"
     ]
    }
   ],
   "source": [
    "print(response[\"result\"])\n",
    "print(\"Sources:\", [doc.metadata for doc in response[\"source_documents\"]])"
   ]
  }
 ],
 "metadata": {
  "kernelspec": {
   "display_name": "venv",
   "language": "python",
   "name": "python3"
  },
  "language_info": {
   "codemirror_mode": {
    "name": "ipython",
    "version": 3
   },
   "file_extension": ".py",
   "mimetype": "text/x-python",
   "name": "python",
   "nbconvert_exporter": "python",
   "pygments_lexer": "ipython3",
   "version": "3.13.2"
  }
 },
 "nbformat": 4,
 "nbformat_minor": 5
}
